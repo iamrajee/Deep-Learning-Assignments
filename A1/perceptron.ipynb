{
 "cells": [
  {
   "cell_type": "code",
   "execution_count": 1,
   "metadata": {},
   "outputs": [],
   "source": [
    "import numpy as np\n",
    "import matplotlib.pyplot as plt\n",
    "import pandas as pd"
   ]
  },
  {
   "cell_type": "code",
   "execution_count": 2,
   "metadata": {},
   "outputs": [],
   "source": [
    "def readInput (fileName):\n",
    "    '''\n",
    "    * takes as input fileName of the data file.\n",
    "    * returns pandas dataframe for the data.\n",
    "    '''\n",
    "    df = pd.read_csv (fileName, header=None)\n",
    "    return df"
   ]
  },
  {
   "cell_type": "code",
   "execution_count": 3,
   "metadata": {},
   "outputs": [],
   "source": [
    "def perceptron(data):\n",
    "    ''' \n",
    "    * implements perceptron learning algorithm\n",
    "    * data is assumed to be a pandas dataframe with column names as [0,1,2...] \n",
    "    * final learned weight w is returned as np array.\n",
    "    '''\n",
    "    iter = 0\n",
    "    w_hist = []\n",
    "    feat_len = len(data.columns) - 1\n",
    "    w = np.random.randn(feat_len + 1)\n",
    "    result = []\n",
    "    while True:\n",
    "        w_hist.append (w)\n",
    "        flag = True\n",
    "        for i in range (0, len(data)):\n",
    "            x = np.array([1] + [data.iloc[i, el] for el in range (0, feat_len)])\n",
    "            y = data.iloc[i, feat_len]\n",
    "            predicted = int(np.dot(w, x) >= 0)\n",
    "            if y != predicted:\n",
    "                flag = False\n",
    "                v = 2 * y - 1\n",
    "                w = w + v * x\n",
    "            \n",
    "        iter += 1\n",
    "        if iter == 1e3 or flag:\n",
    "            break\n",
    "            \n",
    "    if iter == 1e3:\n",
    "        print (\"Does not converge.\")\n",
    "    else:\n",
    "        print (\"Converged in {} steps.\".format(iter))\n",
    "        \n",
    "    return w, w_hist\n",
    "  \n",
    "        "
   ]
  },
  {
   "cell_type": "code",
   "execution_count": 4,
   "metadata": {},
   "outputs": [],
   "source": [
    "def plot_output (data, w):\n",
    "    zx = []\n",
    "    zy = []\n",
    "    ox = []\n",
    "    oy = []\n",
    "    feat_len = len(data.columns) - 1\n",
    "    for i in range (0, len(data)):\n",
    "        if (data.iloc[i, feat_len] == 1):\n",
    "            ox.append (data.iloc[i, 0])\n",
    "            oy.append (data.iloc[i, 1])\n",
    "        else:\n",
    "            zx.append (data.iloc[i, 0])\n",
    "            zy.append (data.iloc[i, 1])\n",
    "    plt.plot (zx, zy, 'r.', label='0')\n",
    "    plt.plot (ox, oy, 'b.', label='1')\n",
    "    minx = min(min(zx), min(ox))\n",
    "    maxx = max(max(zx), max(ox))\n",
    "    miny = - (w[0] + w[1] * minx) / (w[2] + 1e-9)\n",
    "    maxy = - (w[0] + w[1] * maxx) / (w[2] + 1e-9)\n",
    "    plt.plot ([minx, maxx], [miny, maxy], 'o-')\n",
    "    plt.show()\n",
    "        "
   ]
  },
  {
   "cell_type": "code",
   "execution_count": 5,
   "metadata": {},
   "outputs": [],
   "source": [
    "def calculate_loss(data, w):\n",
    "    loss = 0\n",
    "    feat_len = len(data.columns) - 1\n",
    "    for i in range (0, len(data)):\n",
    "        x = np.array([1] + [data.iloc[i, el] for el in range (0, feat_len)])\n",
    "        y = data.iloc[i, feat_len]\n",
    "        predicted = int(np.dot(w, x) >= 0)\n",
    "        if y != predicted:\n",
    "            loss += 1\n",
    "    return loss"
   ]
  },
  {
   "cell_type": "code",
   "execution_count": 6,
   "metadata": {},
   "outputs": [
    {
     "name": "stdout",
     "output_type": "stream",
     "text": [
      "Converged in 2 steps.\n"
     ]
    },
    {
     "data": {
      "image/png": "[encoded data removed]",
      "text/plain": [
       "<Figure size 432x288 with 1 Axes>"
      ]
     },
     "metadata": {
      "needs_background": "light"
     },
     "output_type": "display_data"
    }
   ],
   "source": [
    "train_df = readInput('Datasets-Question1/dataset1/Train1.csv')\n",
    "w, w_hist = perceptron(train_df)\n",
    "# Plot for training data.\n",
    "plot_output (train_df, w)"
   ]
  },
  {
   "cell_type": "code",
   "execution_count": 7,
   "metadata": {},
   "outputs": [
    {
     "data": {
      "image/png": "[encoded data removed]",
      "text/plain": [
       "<Figure size 432x288 with 1 Axes>"
      ]
     },
     "metadata": {
      "needs_background": "light"
     },
     "output_type": "display_data"
    }
   ],
   "source": [
    "# Plot for test data\n",
    "test_df = readInput('Datasets-Question1/dataset1/Test1.csv')\n",
    "plot_output (test_df, w)"
   ]
  },
  {
   "cell_type": "markdown",
   "metadata": {},
   "source": [
    "loss and classification error are identical for perceptron so drawing only 1 graph."
   ]
  },
  {
   "cell_type": "code",
   "execution_count": 8,
   "metadata": {},
   "outputs": [
    {
     "data": {
      "image/png": "[encoded data removed]",
      "text/plain": [
       "<Figure size 432x288 with 1 Axes>"
      ]
     },
     "metadata": {
      "needs_background": "light"
     },
     "output_type": "display_data"
    },
    {
     "data": {
      "image/png": "[encoded data removed]",
      "text/plain": [
       "<Figure size 432x288 with 1 Axes>"
      ]
     },
     "metadata": {
      "needs_background": "light"
     },
     "output_type": "display_data"
    }
   ],
   "source": [
    "loss_ar = []\n",
    "for w in w_hist:\n",
    "    loss_ar.append (calculate_loss(train_df, w))\n",
    "\n",
    "plt.title('loss vs iteration')\n",
    "plt.xlabel('iteration')\n",
    "plt.ylabel('loss')\n",
    "plt.plot (range(0, len(loss_ar)), loss_ar, 'ro-')\n",
    "plt.show()\n",
    "\n",
    "accuracy = [(len(train_df) - x) for x in loss_ar]\n",
    "plt.title('accuracy vs iteration')\n",
    "plt.xlabel('iteration')\n",
    "plt.ylabel('loss')\n",
    "plt.plot (range(0, len(accuracy)), accuracy, 'ro-')\n",
    "plt.show()\n"
   ]
  },
  {
   "cell_type": "code",
   "execution_count": 9,
   "metadata": {},
   "outputs": [],
   "source": [
    "def metrics (data, w):\n",
    "    tp, tn, fp, fn = 0, 0, 0, 0\n",
    "    loss = 0\n",
    "    feat_len = len(data.columns) - 1\n",
    "    for i in range (0, len(data)):\n",
    "        x = np.array([1] + [data.iloc[i, el] for el in range (0, feat_len)])\n",
    "        y = data.iloc[i, feat_len]\n",
    "        predicted = int(np.dot(w, x) >= 0)\n",
    "        if predicted == y:\n",
    "            if predicted == 1:\n",
    "                tp += 1\n",
    "            else:\n",
    "                tn += 1\n",
    "        else:\n",
    "            if predicted == 1:\n",
    "                fp += 1\n",
    "            else:\n",
    "                fn += 1\n",
    "            \n",
    "    return tp, tn, fp, fn"
   ]
  },
  {
   "cell_type": "code",
   "execution_count": 10,
   "metadata": {},
   "outputs": [
    {
     "name": "stdout",
     "output_type": "stream",
     "text": [
      "For training data\n",
      "True positives = 483\n",
      "True negatives = 477\n",
      "False positives = 0\n",
      "False negatives = 0\n",
      "Classification accuracy = 100.0%\n"
     ]
    }
   ],
   "source": [
    "tp, tn, fp, fn = metrics(train_df, w)\n",
    "print ('For training data')\n",
    "print ('True positives = {}'.format(tp))\n",
    "print ('True negatives = {}'.format(tn))\n",
    "print ('False positives = {}'.format(fp))\n",
    "print ('False negatives = {}'.format(fn))\n",
    "print ('Classification accuracy = {}%'.format((tp + tn) / len(train_df) * 100))"
   ]
  },
  {
   "cell_type": "code",
   "execution_count": 11,
   "metadata": {},
   "outputs": [
    {
     "name": "stdout",
     "output_type": "stream",
     "text": [
      "For test data\n",
      "True positives = 117\n",
      "True negatives = 123\n",
      "False positives = 0\n",
      "False negatives = 0\n",
      "Classification accuracy = 100.0%\n"
     ]
    }
   ],
   "source": [
    "tp, tn, fp, fn = metrics(test_df, w)\n",
    "print ('For test data')\n",
    "print ('True positives = {}'.format(tp))\n",
    "print ('True negatives = {}'.format(tn))\n",
    "print ('False positives = {}'.format(fp))\n",
    "print ('False negatives = {}'.format(fn))\n",
    "print ('Classification accuracy = {}%'.format((tp + tn) / len(test_df) * 100))\n"
   ]
  },
  {
   "cell_type": "code",
   "execution_count": 12,
   "metadata": {},
   "outputs": [
    {
     "name": "stdout",
     "output_type": "stream",
     "text": [
      "There are 960 elements in training data.\n"
     ]
    },
    {
     "data": {
      "text/html": [
       "<div>\n",
       "<style scoped>\n",
       "    .dataframe tbody tr th:only-of-type {\n",
       "        vertical-align: middle;\n",
       "    }\n",
       "\n",
       "    .dataframe tbody tr th {\n",
       "        vertical-align: top;\n",
       "    }\n",
       "\n",
       "    .dataframe thead th {\n",
       "        text-align: right;\n",
       "    }\n",
       "</style>\n",
       "<table border=\"1\" class=\"dataframe\">\n",
       "  <thead>\n",
       "    <tr style=\"text-align: right;\">\n",
       "      <th></th>\n",
       "      <th>0</th>\n",
       "      <th>1</th>\n",
       "      <th>2</th>\n",
       "    </tr>\n",
       "  </thead>\n",
       "  <tbody>\n",
       "    <tr>\n",
       "      <th>0</th>\n",
       "      <td>4.830686</td>\n",
       "      <td>3.050905</td>\n",
       "      <td>0.0</td>\n",
       "    </tr>\n",
       "    <tr>\n",
       "      <th>1</th>\n",
       "      <td>4.385330</td>\n",
       "      <td>4.491989</td>\n",
       "      <td>0.0</td>\n",
       "    </tr>\n",
       "    <tr>\n",
       "      <th>2</th>\n",
       "      <td>5.653520</td>\n",
       "      <td>4.852372</td>\n",
       "      <td>0.0</td>\n",
       "    </tr>\n",
       "    <tr>\n",
       "      <th>3</th>\n",
       "      <td>3.487049</td>\n",
       "      <td>5.517360</td>\n",
       "      <td>0.0</td>\n",
       "    </tr>\n",
       "    <tr>\n",
       "      <th>4</th>\n",
       "      <td>6.339344</td>\n",
       "      <td>5.173789</td>\n",
       "      <td>0.0</td>\n",
       "    </tr>\n",
       "  </tbody>\n",
       "</table>\n",
       "</div>"
      ],
      "text/plain": [
       "          0         1    2\n",
       "0  4.830686  3.050905  0.0\n",
       "1  4.385330  4.491989  0.0\n",
       "2  5.653520  4.852372  0.0\n",
       "3  3.487049  5.517360  0.0\n",
       "4  6.339344  5.173789  0.0"
      ]
     },
     "execution_count": 12,
     "metadata": {},
     "output_type": "execute_result"
    }
   ],
   "source": [
    "print ('There are {} elements in training data.'.format(len(train_df)))\n",
    "train_df.head()"
   ]
  },
  {
   "cell_type": "code",
   "execution_count": 13,
   "metadata": {},
   "outputs": [
    {
     "name": "stdout",
     "output_type": "stream",
     "text": [
      "There are 240 elements in test data.\n"
     ]
    },
    {
     "data": {
      "text/html": [
       "<div>\n",
       "<style scoped>\n",
       "    .dataframe tbody tr th:only-of-type {\n",
       "        vertical-align: middle;\n",
       "    }\n",
       "\n",
       "    .dataframe tbody tr th {\n",
       "        vertical-align: top;\n",
       "    }\n",
       "\n",
       "    .dataframe thead th {\n",
       "        text-align: right;\n",
       "    }\n",
       "</style>\n",
       "<table border=\"1\" class=\"dataframe\">\n",
       "  <thead>\n",
       "    <tr style=\"text-align: right;\">\n",
       "      <th></th>\n",
       "      <th>0</th>\n",
       "      <th>1</th>\n",
       "      <th>2</th>\n",
       "    </tr>\n",
       "  </thead>\n",
       "  <tbody>\n",
       "    <tr>\n",
       "      <th>0</th>\n",
       "      <td>4.257714</td>\n",
       "      <td>4.129628</td>\n",
       "      <td>0.0</td>\n",
       "    </tr>\n",
       "    <tr>\n",
       "      <th>1</th>\n",
       "      <td>3.524991</td>\n",
       "      <td>5.641825</td>\n",
       "      <td>0.0</td>\n",
       "    </tr>\n",
       "    <tr>\n",
       "      <th>2</th>\n",
       "      <td>14.621384</td>\n",
       "      <td>14.530985</td>\n",
       "      <td>1.0</td>\n",
       "    </tr>\n",
       "    <tr>\n",
       "      <th>3</th>\n",
       "      <td>15.555876</td>\n",
       "      <td>15.010700</td>\n",
       "      <td>1.0</td>\n",
       "    </tr>\n",
       "    <tr>\n",
       "      <th>4</th>\n",
       "      <td>3.272855</td>\n",
       "      <td>3.825943</td>\n",
       "      <td>0.0</td>\n",
       "    </tr>\n",
       "  </tbody>\n",
       "</table>\n",
       "</div>"
      ],
      "text/plain": [
       "           0          1    2\n",
       "0   4.257714   4.129628  0.0\n",
       "1   3.524991   5.641825  0.0\n",
       "2  14.621384  14.530985  1.0\n",
       "3  15.555876  15.010700  1.0\n",
       "4   3.272855   3.825943  0.0"
      ]
     },
     "execution_count": 13,
     "metadata": {},
     "output_type": "execute_result"
    }
   ],
   "source": [
    "print ('There are {} elements in test data.'.format(len(test_df)))\n",
    "test_df.head()"
   ]
  },
  {
   "cell_type": "markdown",
   "metadata": {},
   "source": [
    "It looks like the data is generated using 2 gaussian functions as the density is higher towards the center and low towards the edges."
   ]
  }
 ],
 "metadata": {
  "kernelspec": {
   "display_name": "Python 3",
   "language": "python",
   "name": "python3"
  },
  "language_info": {
   "codemirror_mode": {
    "name": "ipython",
    "version": 3
   },
   "file_extension": ".py",
   "mimetype": "text/x-python",
   "name": "python",
   "nbconvert_exporter": "python",
   "pygments_lexer": "ipython3",
   "version": "3.7.3"
  }
 },
 "nbformat": 4,
 "nbformat_minor": 2
}
