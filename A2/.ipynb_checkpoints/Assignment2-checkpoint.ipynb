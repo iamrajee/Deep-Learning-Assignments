{
 "cells": [
  {
   "cell_type": "markdown",
   "metadata": {
    "colab_type": "text",
    "id": "JWnEM2KYcdsT"
   },
   "source": [
    "# **Assignment** - **2**"
   ]
  },
  {
   "cell_type": "code",
   "execution_count": 35,
   "metadata": {
    "colab": {
     "base_uri": "https://localhost:8080/",
     "height": 50
    },
    "colab_type": "code",
    "id": "P1PhHGsa3MHA",
    "outputId": "ee9128f3-52e7-4f70-9729-58f489695320"
   },
   "outputs": [
    {
     "name": "stdout",
     "output_type": "stream",
     "text": [
      "[nltk_data] Downloading package stopwords to /root/nltk_data...\n",
      "[nltk_data]   Package stopwords is already up-to-date!\n"
     ]
    }
   ],
   "source": [
    "# importing necessary libraries and tools\n",
    "import time\n",
    "import numpy as np\n",
    "import matplotlib.pyplot as plt\n",
    "import tensorflow as tf\n",
    "from sklearn.preprocessing import normalize\n",
    "from keras.datasets import mnist\n",
    "from sklearn.manifold import TSNE\n",
    "from sklearn.datasets import  fetch_20newsgroups\n",
    "from nltk.tokenize import RegexpTokenizer\n",
    "from gensim.models import Word2Vec\n",
    "\n",
    "import nltk\n",
    "nltk.download('stopwords')\n",
    "from nltk.corpus import stopwords\n",
    "\n",
    "import warnings\n",
    "warnings.simplefilter(action='ignore', category=FutureWarning)\n",
    "warnings.simplefilter(action='ignore', category=DeprecationWarning)"
   ]
  },
  {
   "cell_type": "markdown",
   "metadata": {
    "colab_type": "text",
    "id": "Zvv7q0vKczx4"
   },
   "source": [
    "## Ques - 1\n",
    "### **Word2Vec**\n"
   ]
  },
  {
   "cell_type": "markdown",
   "metadata": {
    "colab_type": "text",
    "id": "qo8kMrwidl3d"
   },
   "source": [
    "*   20-newgroup dataset is a collection of newsgroups in 20 topics. Fetch 20-newsgroup dataset."
   ]
  },
  {
   "cell_type": "code",
   "execution_count": 6,
   "metadata": {
    "colab": {
     "base_uri": "https://localhost:8080/",
     "height": 50
    },
    "colab_type": "code",
    "id": "OKOqePML4Bv4",
    "outputId": "70c40865-696c-4a80-d8ab-777708dbaae2"
   },
   "outputs": [
    {
     "name": "stderr",
     "output_type": "stream",
     "text": [
      "Downloading 20news dataset. This may take a few minutes.\n",
      "Downloading dataset from https://ndownloader.figshare.com/files/5975967 (14 MB)\n"
     ]
    }
   ],
   "source": [
    "# loading the 20newsgroup dataset\n",
    "# returns Bunch object with the following attribute:\n",
    "#     - data: list, length [n_samples]\n",
    "#     - target: array, shape [n_samples]\n",
    "#     - filenames: list, length [n_samples]\n",
    "#     - DESCR: a description of the dataset.\n",
    "#     - target_names: a list of categories of the returned data,\n",
    "#     - length [n_classes]. This depends on the `categories` parameter while calling.\n",
    "newsgroups = fetch_20newsgroups(subset='all', remove=('headers', 'footers'))"
   ]
  },
  {
   "cell_type": "markdown",
   "metadata": {
    "colab_type": "text",
    "id": "W4Ou1t0LdzOx"
   },
   "source": [
    "*    Pre-process the dataset: Convert to lowercase, remove punctuations, symbols, and stopwords."
   ]
  },
  {
   "cell_type": "code",
   "execution_count": 0,
   "metadata": {
    "colab": {},
    "colab_type": "code",
    "id": "hkdvAhOGptKZ"
   },
   "outputs": [],
   "source": [
    "tokenizer = RegexpTokenizer(r'\\w+')\n",
    "stop_words = set(stopwords.words('english'))\n",
    "words = []\n",
    "\n",
    "for i in range(len(newsgroups.data)):\n",
    "    # tokeninzing the data, removing non-alphanumeric characters\n",
    "    dt = tokenizer.tokenize(newsgroups.data[i])\n",
    "\n",
    "    # converting tokens to lowecase and ignoring stop-words\n",
    "    words.append([w.lower() for w in dt if w not in stop_words])"
   ]
  },
  {
   "cell_type": "markdown",
   "metadata": {
    "colab_type": "text",
    "id": "TogAHyIveNrp"
   },
   "source": [
    "*     Convert the words in the dataset to vectors of dimension 100 using Word2Vec. Ignore words whose frequency is less than 10."
   ]
  },
  {
   "cell_type": "code",
   "execution_count": 0,
   "metadata": {
    "colab": {},
    "colab_type": "code",
    "id": "DobbXGQsrkTi"
   },
   "outputs": [],
   "source": [
    "# converting words to vectors of size 100, ignoring words with frequency less than 10\n",
    "model = Word2Vec(words, min_count=10, size=100, window=5)"
   ]
  },
  {
   "cell_type": "markdown",
   "metadata": {
    "colab_type": "text",
    "id": "66_olQ31eT2y"
   },
   "source": [
    "*    Find the vocabulary size."
   ]
  },
  {
   "cell_type": "code",
   "execution_count": 0,
   "metadata": {
    "colab": {
     "base_uri": "https://localhost:8080/",
     "height": 33
    },
    "colab_type": "code",
    "id": "al6XzTbZw-Sn",
    "outputId": "ed129161-6f58-4c2d-b99d-395be6115a29"
   },
   "outputs": [
    {
     "name": "stdout",
     "output_type": "stream",
     "text": [
      "The size of the vocabulary is:  22848\n"
     ]
    }
   ],
   "source": [
    "# vocabulary size\n",
    "vocab = model.wv.vocab.keys()\n",
    "print(\"The size of the vocabulary is: \", len(vocab))"
   ]
  },
  {
   "cell_type": "markdown",
   "metadata": {
    "colab_type": "text",
    "id": "lPWZR8ZmeXpz"
   },
   "source": [
    "*    Find the most similar words in the corpus to the word “car” along with their similarities"
   ]
  },
  {
   "cell_type": "code",
   "execution_count": 0,
   "metadata": {
    "colab": {
     "base_uri": "https://localhost:8080/",
     "height": 196
    },
    "colab_type": "code",
    "id": "JTMXgrWjxbJc",
    "outputId": "8459ec2a-5303-44bb-d4e3-2d5cca1aa489"
   },
   "outputs": [
    {
     "name": "stdout",
     "output_type": "stream",
     "text": [
      "Top 10 similar words to 'car': \n",
      "\t bike : 0.8241970539093018\n",
      "\t tires : 0.8129745721817017\n",
      "\t bikes : 0.8125572800636292\n",
      "\t dealer : 0.8096601963043213\n",
      "\t motorcycle : 0.7991973161697388\n",
      "\t cars : 0.7927560210227966\n",
      "\t tire : 0.7898772954940796\n",
      "\t odometer : 0.7797927856445312\n",
      "\t bmw : 0.7711659669876099\n",
      "\t owner : 0.7630698084831238\n"
     ]
    }
   ],
   "source": [
    "# top words in the corpus similar to 'car'\n",
    "sim_to_car = model.wv.similar_by_word('car', topn=10)\n",
    "print(\"Top 10 similar words to 'car': \")\n",
    "for pr in sim_to_car:\n",
    "    (x, y) = pr\n",
    "    print(\"\\t\", x, \":\", y)"
   ]
  },
  {
   "cell_type": "markdown",
   "metadata": {
    "colab_type": "text",
    "id": "MAhpelmoelF3"
   },
   "source": [
    "*    Find the top 5 words similar to the following operations:\n",
    "     *    girl + father - boy\n",
    "     *    sports - bat + ball"
   ]
  },
  {
   "cell_type": "code",
   "execution_count": 0,
   "metadata": {
    "colab": {
     "base_uri": "https://localhost:8080/",
     "height": 228
    },
    "colab_type": "code",
    "id": "fOjdz3o2PBV9",
    "outputId": "65fc4435-5a5e-494e-f273-f55a4f65df5e"
   },
   "outputs": [
    {
     "name": "stdout",
     "output_type": "stream",
     "text": [
      "Words similar to 'girl + father - boy':\n",
      "\t son : 0.8415806293487549\n",
      "\t mother : 0.83420330286026\n",
      "\t husband : 0.8079642057418823\n",
      "\t moses : 0.798603355884552\n",
      "\t female : 0.7950559854507446\n",
      "\n",
      "Words similar to 'sports + ball - bat':\n",
      "\t arena : 0.8422720432281494\n",
      "\t club : 0.7807680368423462\n",
      "\t wearing : 0.7646790742874146\n",
      "\t town : 0.760001540184021\n",
      "\t winter : 0.7594608664512634\n"
     ]
    }
   ],
   "source": [
    "# top 5 words similar to (girl + father - boy)\n",
    "sim_to_gf_b = model.wv.most_similar(positive=['girl', 'father'], negative=['boy'], topn=5)\n",
    "sim_to_sb_b = model.wv.most_similar(positive=['sports', 'ball'], negative=['bat'], topn=5)\n",
    "\n",
    "print(\"Words similar to 'girl + father - boy':\")\n",
    "for pr in sim_to_gf_b:\n",
    "    (x, y) = pr\n",
    "    print(\"\\t\", x, \":\", y)\n",
    "    \n",
    "print(\"\\nWords similar to 'sports + ball - bat':\")\n",
    "for pr in sim_to_sb_b:\n",
    "    (x, y) = pr\n",
    "    print(\"\\t\", x, \":\", y)"
   ]
  },
  {
   "cell_type": "markdown",
   "metadata": {
    "colab_type": "text",
    "id": "b5n83n0VeuLx"
   },
   "source": [
    "*    Create a TSNE plot for the top 20 words similar to each of the words {‘baseball’, ‘software’,\n",
    "‘police’, ‘government’, ‘circuit’, ‘car’}"
   ]
  },
  {
   "cell_type": "code",
   "execution_count": 0,
   "metadata": {
    "colab": {
     "base_uri": "https://localhost:8080/",
     "height": 366
    },
    "colab_type": "code",
    "id": "hW_mTJ_HTcYk",
    "outputId": "9a937dbc-9dac-4630-aafa-281fcbdd6ef2"
   },
   "outputs": [
    {
     "name": "stdout",
     "output_type": "stream",
     "text": [
      "Words similar to baseball : ['hockey', 'stats', 'football', 'nhl', 'playoff']\n",
      "Words similar to software : ['platform', 'vendor', 'packages', 'vendors', 'developer']\n",
      "Words similar to police : ['officers', 'officials', 'agents', 'cops', 'guard']\n",
      "Words similar to government : ['govt', 'regulation', 'federal', 'legitimate', 'agencies']\n",
      "Words similar to circuit : ['signal', 'signals', 'analog', 'transmitter', 'components']\n",
      "Words similar to car : ['bike', 'tires', 'motorcycle', 'bikes', 'dealer']\n"
     ]
    },
    {
     "data": {
      "image/png": "[encoded data removed]",
      "text/plain": [
       "<Figure size 432x288 with 1 Axes>"
      ]
     },
     "metadata": {
      "tags": []
     },
     "output_type": "display_data"
    }
   ],
   "source": [
    "lst = ['baseball', 'software', 'police', 'government', 'circuit', 'car']\n",
    "\n",
    "tsne = TSNE(perplexity=5, n_components=2, random_state=23, init='pca', learning_rate=1)\n",
    "\n",
    "for word in lst:\n",
    "    \n",
    "    arr = [model[word]]\n",
    "    word_labels = [word]\n",
    "\n",
    "    # get close words\n",
    "    close_words = model.similar_by_word(word, topn=5)\n",
    "    print(\"Words similar to\", word, \":\", [x[0] for x in close_words])\n",
    "    \n",
    "    # add the vector for each of the closest words to the array\n",
    "    for wrd_score in close_words:\n",
    "        arr.append(model[wrd_score[0]])\n",
    "        word_labels.append(wrd_score[0])\n",
    "        \n",
    "    # find tsne coords for 2 dimensions\n",
    "    Y = tsne.fit_transform(arr)\n",
    "\n",
    "    x_coords = Y[:, 0]\n",
    "    y_coords = Y[:, 1]\n",
    "    \n",
    "    # display scatter plot\n",
    "    plt.scatter(x_coords, y_coords, label=word)\n",
    "\n",
    "    for label, x, y in zip(word_labels, x_coords, y_coords):\n",
    "        plt.annotate(label, xy=(x, y), xytext=(0, 0), textcoords='offset points')\n",
    "    \n",
    "plt.legend()\n",
    "plt.show()\n"
   ]
  },
  {
   "cell_type": "markdown",
   "metadata": {
    "colab_type": "text",
    "id": "5EUjkpEmfDQG"
   },
   "source": [
    "*    The dataset consists of documents. Each document is a datapoint. Formulate a methodology to represent each document as a vector using the word vectors. Mention the method employed to create the vector representation of the documents."
   ]
  },
  {
   "cell_type": "code",
   "execution_count": 0,
   "metadata": {
    "colab": {},
    "colab_type": "code",
    "id": "1Mhn2BWqXpC6"
   },
   "outputs": [],
   "source": [
    "cbow_model = Word2Vec(words, min_count=10, size=100, window=5)        # CBOW model for the documents\n",
    "sg_model = Word2Vec(words, min_count=10, size=100, window=5, sg=1)    # Skip-gram model for the documents"
   ]
  },
  {
   "cell_type": "code",
   "execution_count": 0,
   "metadata": {
    "colab": {},
    "colab_type": "code",
    "id": "Zuh0gX5zXgY7"
   },
   "outputs": [],
   "source": [
    "y_train = newsgroups.target\n",
    "x_train_cbow = []\n",
    "x_train_sg = []\n",
    "\n",
    "for t in words:\n",
    "    cbow = [0] * 100\n",
    "    sg = [0] * 100\n",
    "    for wd in t:\n",
    "        if wd in cbow_model.wv:\n",
    "            cbow = [sum(x) for x in zip(cbow, cbow_model.wv[wd])]\n",
    "            sg = [sum(x) for x in zip(sg, sg_model.wv[wd])]\n",
    "    x_train_cbow.append(list(normalize(np.array(cbow)[:,np.newaxis], axis=0).ravel()))\n",
    "    x_train_sg.append(list(normalize(np.array(sg)[:,np.newaxis], axis=0).ravel()))"
   ]
  },
  {
   "cell_type": "code",
   "execution_count": 63,
   "metadata": {
    "colab": {
     "base_uri": "https://localhost:8080/",
     "height": 82
    },
    "colab_type": "code",
    "id": "dIGK3q6WriUv",
    "outputId": "45ac65a2-f15b-4d91-e923-3852fed30b75"
   },
   "outputs": [
    {
     "name": "stdout",
     "output_type": "stream",
     "text": [
      "(18846, 100)\n",
      "(18846, 100)\n",
      "(18846,)\n",
      "(18846,)\n"
     ]
    }
   ],
   "source": [
    "print(np.shape(x_train_cbow))\n",
    "print(np.shape(x_train_sg))\n",
    "print(np.shape(y_train))\n",
    "print(np.shape(words))"
   ]
  },
  {
   "cell_type": "markdown",
   "metadata": {
    "colab_type": "text",
    "id": "nEC9UchJneg1"
   },
   "source": [
    "*    Split the dataset into training (70%), validation(10%) and testing(20%) data"
   ]
  },
  {
   "cell_type": "code",
   "execution_count": 0,
   "metadata": {
    "colab": {},
    "colab_type": "code",
    "id": "wTs111ydlilB"
   },
   "outputs": [],
   "source": [
    "val = int(0.7 * len(y_train))\n",
    "test = int(0.8 * len(y_train))\n",
    "y_train, y_val, y_test = y_train[:val], y_train[val:test], y_train[test:]\n",
    "x_train_cbow, x_val_cbow, x_test_cbow = x_train_cbow[:val], x_train_cbow[val:test], x_train_cbow[test:]\n",
    "x_train_sg, x_val_sg, x_test_sg = x_train_sg[:val], x_train_sg[val:test], x_train_sg[test:]"
   ]
  },
  {
   "cell_type": "code",
   "execution_count": 54,
   "metadata": {
    "colab": {
     "base_uri": "https://localhost:8080/",
     "height": 66
    },
    "colab_type": "code",
    "id": "rnSdid2GpBpa",
    "outputId": "ac220172-4f5b-4777-8e5f-79818468909d"
   },
   "outputs": [
    {
     "name": "stdout",
     "output_type": "stream",
     "text": [
      "(3770,)\n",
      "(5466, 100)\n",
      "(18846,)\n"
     ]
    }
   ],
   "source": [
    "print(np.shape(y_test))\n",
    "print(np.shape(x_test_cbow))\n",
    "print(np.shape(words))"
   ]
  },
  {
   "cell_type": "markdown",
   "metadata": {
    "colab_type": "text",
    "id": "jcxyoeOUnguT"
   },
   "source": [
    "*    Plot the loss vs iteration curve, classification error vs iteration curve, classification accuracy vs iteration curve for training data and report your observations."
   ]
  },
  {
   "cell_type": "code",
   "execution_count": 67,
   "metadata": {
    "colab": {
     "base_uri": "https://localhost:8080/",
     "height": 732
    },
    "colab_type": "code",
    "id": "heU8zSV8SgCx",
    "outputId": "ea89f3aa-1b38-4d4a-b429-2035b6e6a6f3"
   },
   "outputs": [
    {
     "name": "stdout",
     "output_type": "stream",
     "text": [
      "itr\tloss\tacc_t\tacc_v\n",
      "5\t1.5\t0.499\t0.498\n",
      "10\t1.4\t0.548\t0.538\n",
      "15\t1.3\t0.575\t0.556\n",
      "20\t1.3\t0.591\t0.566\n",
      "25\t1.2\t0.602\t0.578\n",
      "30\t1.2\t0.611\t0.586\n",
      "35\t1.2\t0.617\t0.593\n",
      "40\t1.2\t0.622\t0.596\n",
      "45\t1.1\t0.627\t0.604\n",
      "50\t1.1\t0.631\t0.607\n",
      "55\t1.1\t0.634\t0.611\n",
      "60\t1.1\t0.638\t0.615\n",
      "65\t1.1\t0.641\t0.617\n",
      "70\t1.1\t0.644\t0.622\n",
      "75\t1.1\t0.646\t0.624\n",
      "80\t1.1\t0.648\t0.622\n",
      "85\t1.1\t0.651\t0.624\n",
      "90\t1.1\t0.654\t0.623\n",
      "95\t1.0\t0.657\t0.62\n",
      "100\t1.0\t0.659\t0.619\n",
      "105\t1.0\t0.66\t0.62\n",
      "110\t1.0\t0.662\t0.623\n",
      "115\t1.0\t0.665\t0.624\n",
      "120\t1.0\t0.666\t0.625\n",
      "125\t1.0\t0.669\t0.624\n",
      "130\t1.0\t0.67\t0.626\n",
      "135\t1.0\t0.671\t0.627\n",
      "140\t1.0\t0.673\t0.629\n",
      "145\t1.0\t0.676\t0.629\n",
      "150\t1.0\t0.677\t0.633\n",
      "155\t1.0\t0.679\t0.633\n",
      "160\t1.0\t0.682\t0.63\n",
      "165\t1.0\t0.682\t0.631\n",
      "170\t1.0\t0.684\t0.633\n",
      "175\t1.0\t0.685\t0.635\n",
      "180\t0.9\t0.686\t0.633\n",
      "185\t0.9\t0.687\t0.632\n",
      "190\t0.9\t0.689\t0.632\n",
      "195\t0.9\t0.69\t0.632\n",
      "200\t0.9\t0.692\t0.634\n",
      "\n",
      "Total training time: 165.16 seconds\n",
      "Accuracy on test data:  0.628\n"
     ]
    }
   ],
   "source": [
    "# using FNN for classification for CBOW word2vec\n",
    "# setting up parameters\n",
    "x_size = 100         # size of input vector\n",
    "h_size = 64          # size of hidden layer\n",
    "y_size = 20          # size of output vector\n",
    "learn_rate = 0.1     # learning rate for gradient descent\n",
    "n_iterations = 200   # no of iterations of gradient descent to be performed\n",
    "n_batches = 500      # no of batches for training\n",
    "batch_size = int(len(x_train_cbow)/n_batches) # size of each batch\n",
    "\n",
    "# inputs and outputs\n",
    "X = tf.placeholder(dtype=tf.float32, shape=[None, x_size])      # input\n",
    "Y = tf.placeholder(dtype=tf.int32, shape=[None])                # actual output\n",
    "y = tf.placeholder(dtype=tf.float32, shape=[None, y_size])      # predicted output\n",
    "\n",
    "# weight and bias tensors\n",
    "w_1 = tf.Variable(tf.random_normal((x_size, h_size), stddev=1))\n",
    "b_1 = tf.Variable(tf.random_normal([h_size], stddev=1))\n",
    "w_2 = tf.Variable(tf.random_normal((h_size, h_size), stddev=1))\n",
    "b_2 = tf.Variable(tf.random_normal([h_size], stddev=1))\n",
    "w_3 = tf.Variable(tf.random_normal((h_size, y_size), stddev=1))\n",
    "b_3 = tf.Variable(tf.random_normal([y_size], stddev=1))\n",
    "\n",
    "# forward propagation\n",
    "H1 = tf.nn.sigmoid(tf.matmul(X, w_1) + b_1)    # hidden layer with sigmoid activation function\n",
    "H2 = tf.nn.sigmoid(tf.matmul(H1, w_2) + b_2)   # hidden layer with sigmoid activation function\n",
    "y = tf.matmul(H2, w_3) + b_3                   # output layer with no activation function\n",
    "\n",
    "# backward propagation\n",
    "cost = tf.reduce_mean(tf.nn.sparse_softmax_cross_entropy_with_logits(logits=y, labels=Y))    # cross entropy cost function\n",
    "optimizer = tf.train.GradientDescentOptimizer(learn_rate).minimize(cost)\n",
    "\n",
    "correct = tf.nn.in_top_k(y, Y, 1)\n",
    "acc = tf.reduce_mean(tf.cast(correct, tf.float32))\n",
    "\n",
    "# running the model\n",
    "init = tf.global_variables_initializer()\n",
    "start_time = time.time()\n",
    "with tf.Session() as sess:\n",
    "    sess.run(init)\n",
    "    print(\"itr\\tloss\\tacc_t\\tacc_v\")\n",
    "    \n",
    "    for iteration_id in range(n_iterations):\n",
    "        for batch_id in range(n_batches):\n",
    "            # find the current batch\n",
    "            i = batch_id * batch_size\n",
    "            j = (batch_id + 1) * batch_size\n",
    "            xx_train, yy_train = x_train_cbow[i:j][:], y_train[i:j]\n",
    "            \n",
    "            # train and update parameters from the current batch data\n",
    "            sess.run(optimizer, feed_dict={X:xx_train, Y:yy_train})\n",
    "        \n",
    "        # perform evaluation at the end of each iteration\n",
    "        loss_val = sess.run([cost], feed_dict={X:x_train_cbow, Y:y_train})\n",
    "        \n",
    "        # evaluate accuracy on training/validation data\n",
    "        acc_train = sess.run([acc], feed_dict={X:x_train_cbow, Y:y_train})\n",
    "        acc_val = sess.run([acc], feed_dict={X:x_val_cbow, Y:y_val})\n",
    "        \n",
    "        # printing training statistics\n",
    "        if iteration_id % 5 == 4:\n",
    "            print('{}\\t{}\\t{}\\t{}'.format(iteration_id + 1, str(round(loss_val[0], 1)), \n",
    "                  str(round(acc_train[0], 3)), str(round(acc_val[0], 3))))\n",
    "\n",
    "    # printing the training time\n",
    "    end_time = time.time()\n",
    "    print(\"\\nTotal training time: %.2f seconds\" % (end_time - start_time))\n",
    "\n",
    "    # running the model on test data\n",
    "    acc_test = sess.run([acc], feed_dict={X:x_test_cbow, Y:y_test})\n",
    "    print(\"Accuracy on test data: \", str(round(acc_test[0], 3)))"
   ]
  },
  {
   "cell_type": "code",
   "execution_count": 68,
   "metadata": {
    "colab": {
     "base_uri": "https://localhost:8080/",
     "height": 732
    },
    "colab_type": "code",
    "id": "mOMG5EBYwu1E",
    "outputId": "8aaf77ad-f78e-44da-b3e9-60697512569f"
   },
   "outputs": [
    {
     "name": "stdout",
     "output_type": "stream",
     "text": [
      "itr\tloss\tacc_t\tacc_v\n",
      "5\t1.4\t0.544\t0.538\n",
      "10\t1.2\t0.63\t0.621\n",
      "15\t1.0\t0.664\t0.656\n",
      "20\t1.0\t0.689\t0.67\n",
      "25\t0.9\t0.706\t0.682\n",
      "30\t0.9\t0.718\t0.691\n",
      "35\t0.9\t0.725\t0.698\n",
      "40\t0.9\t0.732\t0.705\n",
      "45\t0.8\t0.738\t0.712\n",
      "50\t0.8\t0.743\t0.718\n",
      "55\t0.8\t0.746\t0.723\n",
      "60\t0.8\t0.75\t0.723\n",
      "65\t0.8\t0.753\t0.727\n",
      "70\t0.8\t0.756\t0.73\n",
      "75\t0.8\t0.76\t0.729\n",
      "80\t0.8\t0.762\t0.732\n",
      "85\t0.8\t0.764\t0.735\n",
      "90\t0.7\t0.766\t0.736\n",
      "95\t0.7\t0.766\t0.738\n",
      "100\t0.7\t0.768\t0.741\n",
      "105\t0.7\t0.769\t0.745\n",
      "110\t0.7\t0.769\t0.747\n",
      "115\t0.7\t0.77\t0.748\n",
      "120\t0.7\t0.773\t0.749\n",
      "125\t0.7\t0.774\t0.751\n",
      "130\t0.7\t0.774\t0.75\n",
      "135\t0.7\t0.775\t0.751\n",
      "140\t0.7\t0.777\t0.751\n",
      "145\t0.7\t0.778\t0.753\n",
      "150\t0.7\t0.78\t0.752\n",
      "155\t0.7\t0.78\t0.752\n",
      "160\t0.7\t0.78\t0.753\n",
      "165\t0.7\t0.782\t0.752\n",
      "170\t0.7\t0.783\t0.753\n",
      "175\t0.7\t0.783\t0.752\n",
      "180\t0.7\t0.785\t0.754\n",
      "185\t0.7\t0.785\t0.754\n",
      "190\t0.7\t0.785\t0.756\n",
      "195\t0.7\t0.786\t0.755\n",
      "200\t0.7\t0.787\t0.755\n",
      "\n",
      "Total training time: 153.96 seconds\n",
      "Accuracy on test data:  0.737\n"
     ]
    }
   ],
   "source": [
    "# using FNN for classification for CBOW word2vec\n",
    "# setting up parameters\n",
    "x_size = 100         # size of input vector\n",
    "h_size = 64          # size of hidden layer\n",
    "y_size = 20          # size of output vector\n",
    "learn_rate = 0.1     # learning rate for gradient descent\n",
    "n_iterations = 200   # no of iterations of gradient descent to be performed\n",
    "n_batches = 500      # no of batches for training\n",
    "batch_size = int(len(x_train_sg)/n_batches) # size of each batch\n",
    "\n",
    "# inputs and outputs\n",
    "X = tf.placeholder(dtype=tf.float32, shape=[None, x_size])      # input\n",
    "Y = tf.placeholder(dtype=tf.int32, shape=[None])                # actual output\n",
    "y = tf.placeholder(dtype=tf.float32, shape=[None, y_size])      # predicted output\n",
    "\n",
    "# weight and bias tensors\n",
    "w_1 = tf.Variable(tf.random_normal((x_size, h_size), stddev=1))\n",
    "b_1 = tf.Variable(tf.random_normal([h_size], stddev=1))\n",
    "w_2 = tf.Variable(tf.random_normal((h_size, h_size), stddev=1))\n",
    "b_2 = tf.Variable(tf.random_normal([h_size], stddev=1))\n",
    "w_3 = tf.Variable(tf.random_normal((h_size, y_size), stddev=1))\n",
    "b_3 = tf.Variable(tf.random_normal([y_size], stddev=1))\n",
    "\n",
    "# forward propagation\n",
    "H1 = tf.nn.sigmoid(tf.matmul(X, w_1) + b_1)    # hidden layer with sigmoid activation function\n",
    "H2 = tf.nn.sigmoid(tf.matmul(H1, w_2) + b_2)   # hidden layer with sigmoid activation function\n",
    "y = tf.matmul(H2, w_3) + b_3                   # output layer with no activation function\n",
    "\n",
    "# backward propagation\n",
    "cost = tf.reduce_mean(tf.nn.sparse_softmax_cross_entropy_with_logits(logits=y, labels=Y))    # cross entropy cost function\n",
    "optimizer = tf.train.GradientDescentOptimizer(learn_rate).minimize(cost)\n",
    "\n",
    "correct = tf.nn.in_top_k(y, Y, 1)\n",
    "acc = tf.reduce_mean(tf.cast(correct, tf.float32))\n",
    "\n",
    "# running the model\n",
    "init = tf.global_variables_initializer()\n",
    "start_time = time.time()\n",
    "with tf.Session() as sess:\n",
    "    sess.run(init)\n",
    "    print(\"itr\\tloss\\tacc_t\\tacc_v\")\n",
    "    \n",
    "    for iteration_id in range(n_iterations):\n",
    "        for batch_id in range(n_batches):\n",
    "            # find the current batch\n",
    "            i = batch_id * batch_size\n",
    "            j = (batch_id + 1) * batch_size\n",
    "            xx_train, yy_train = x_train_sg[i:j][:], y_train[i:j]\n",
    "            \n",
    "            # train and update parameters from the current batch data\n",
    "            sess.run(optimizer, feed_dict={X:xx_train, Y:yy_train})\n",
    "        \n",
    "        # perform evaluation at the end of each iteration\n",
    "        loss_val = sess.run([cost], feed_dict={X:x_train_sg, Y:y_train})\n",
    "        \n",
    "        # evaluate accuracy on training/validation data\n",
    "        acc_train = sess.run([acc], feed_dict={X:x_train_sg, Y:y_train})\n",
    "        acc_val = sess.run([acc], feed_dict={X:x_val_sg, Y:y_val})\n",
    "        \n",
    "        # printing training statistics\n",
    "        if iteration_id % 5 == 4:\n",
    "            print('{}\\t{}\\t{}\\t{}'.format(iteration_id + 1, str(round(loss_val[0], 1)), \n",
    "                  str(round(acc_train[0], 3)), str(round(acc_val[0], 3))))\n",
    "\n",
    "    # printing the training time\n",
    "    end_time = time.time()\n",
    "    print(\"\\nTotal training time: %.2f seconds\" % (end_time - start_time))\n",
    "\n",
    "    # running the model on test data\n",
    "    acc_test = sess.run([acc], feed_dict={X:x_test_sg, Y:y_test})\n",
    "    print(\"Accuracy on test data: \", str(round(acc_test[0], 3)))"
   ]
  },
  {
   "cell_type": "markdown",
   "metadata": {
    "colab_type": "text",
    "id": "NtYcuJuNoDT5"
   },
   "source": [
    "*    Find the classification accuracy, the number of true positives, true negatives, false positives and false negatives for both training and test data."
   ]
  },
  {
   "cell_type": "markdown",
   "metadata": {
    "colab_type": "text",
    "id": "MfhBvRV3oKVU"
   },
   "source": [
    "*    There are two training algorithms for Word2Vec: skip-gram and bag of words. Which\n",
    "training algorithm is performing better in this data set?"
   ]
  },
  {
   "cell_type": "markdown",
   "metadata": {
    "colab_type": "text",
    "id": "tyxmhilDgnaJ"
   },
   "source": [
    "## Ques - 2\n",
    "### Tensorflow"
   ]
  },
  {
   "cell_type": "markdown",
   "metadata": {
    "colab_type": "text",
    "id": "l3ydNwLugs-j"
   },
   "source": [
    "*    MNIST is a database of hand written images. Download MNIST data using the built-in functions in Tensorflow or Keras"
   ]
  },
  {
   "cell_type": "code",
   "execution_count": 0,
   "metadata": {
    "colab": {},
    "colab_type": "code",
    "id": "-njzEILDsflg"
   },
   "outputs": [],
   "source": [
    "# loading MNIST data\n",
    "(x_train, y_train), (x_test, y_test) = mnist.load_data()"
   ]
  },
  {
   "cell_type": "markdown",
   "metadata": {
    "colab_type": "text",
    "id": "-7EyI5RGtBIC"
   },
   "source": [
    "*    Split the training data into training data and validation data of size 5000."
   ]
  },
  {
   "cell_type": "code",
   "execution_count": 0,
   "metadata": {
    "colab": {},
    "colab_type": "code",
    "id": "PQioXKGSsjH6"
   },
   "outputs": [],
   "source": [
    "# splitting the training data into training and validation data\n",
    "x_train, x_val = x_train[:-5000][:][:], x_train[-5000:][:][:]\n",
    "y_train, y_val = y_train[:-5000], y_train[-5000:]"
   ]
  },
  {
   "cell_type": "markdown",
   "metadata": {
    "colab_type": "text",
    "id": "YEbYJBvYskFz"
   },
   "source": [
    "*    Create a fully connected feed forward neural network for MNIST classification with one hidden layer(32 nodes). Train the model using Stochastic Gradient Descent optimizer with learning rate 0.1. Use Sigmoid activation function in the hidden layer.\n",
    "\n",
    "#### Training with unnormalized data\n",
    "Learning rate = 0.1 <br>\n",
    "No of iterations = 100 <br>\n",
    "No of hidden layers = 1 <br>\n",
    "No of nodes in the hidden layer = 32 <br>\n",
    "Activation function = Sigmoid"
   ]
  },
  {
   "cell_type": "code",
   "execution_count": 0,
   "metadata": {
    "colab": {
     "base_uri": "https://localhost:8080/",
     "height": 407
    },
    "colab_type": "code",
    "id": "KARlCWFruUti",
    "outputId": "3801b28b-ccc3-435f-f2b5-ad39729cb55f"
   },
   "outputs": [
    {
     "name": "stdout",
     "output_type": "stream",
     "text": [
      "itr\tloss\tacc_t\tacc_v\n",
      "5\t0.8\t0.724\t0.762\n",
      "10\t0.7\t0.792\t0.835\n",
      "15\t0.6\t0.817\t0.85\n",
      "20\t0.6\t0.817\t0.849\n",
      "25\t0.5\t0.845\t0.874\n",
      "30\t0.5\t0.848\t0.872\n",
      "35\t0.5\t0.861\t0.886\n",
      "40\t0.4\t0.866\t0.891\n",
      "45\t0.4\t0.866\t0.887\n",
      "50\t0.4\t0.87\t0.891\n",
      "55\t0.4\t0.865\t0.881\n",
      "60\t0.4\t0.88\t0.898\n",
      "65\t0.4\t0.878\t0.896\n",
      "70\t0.4\t0.889\t0.909\n",
      "75\t0.4\t0.891\t0.907\n",
      "80\t0.4\t0.887\t0.9\n",
      "85\t0.4\t0.888\t0.904\n",
      "90\t0.4\t0.887\t0.906\n",
      "95\t0.4\t0.886\t0.905\n",
      "100\t0.4\t0.892\t0.91\n",
      "\n",
      "Total training time: 82.12 seconds\n",
      "Accuracy on test data:  0.9\n"
     ]
    }
   ],
   "source": [
    "# loading MNIST data\n",
    "(x_train, y_train), (x_test, y_test) = mnist.load_data()\n",
    "\n",
    "# splitting the training data into training and validation data\n",
    "x_train, x_val = x_train[:-5000][:][:], x_train[-5000:][:][:]\n",
    "y_train, y_val = y_train[:-5000], y_train[-5000:]\n",
    "\n",
    "# resizing the image matrices into a linear vector\n",
    "x_train = np.reshape(x_train, (x_train.shape[0], -1))\n",
    "x_val = np.reshape(x_val, (x_val.shape[0], -1))\n",
    "x_test = np.reshape(x_test, (x_test.shape[0], -1))\n",
    "\n",
    "# setting up parameters\n",
    "x_size = 784         # size of input vector (28 * 28 = 784)\n",
    "h_size = 32          # size of hidden layer\n",
    "y_size = 10          # size of output vector\n",
    "learn_rate = 0.1     # learning rate for gradient descent\n",
    "n_iterations = 100   # no of iterations of gradient descent to be performed\n",
    "n_batches = 500      # no of batches for training\n",
    "batch_size = int(len(x_train)/n_batches) # size of each batch\n",
    "\n",
    "# inputs and outputs\n",
    "X = tf.placeholder(dtype=tf.float32, shape=[None, x_size])    # input\n",
    "Y = tf.placeholder(dtype=tf.int32, shape=[None])              # actual output\n",
    "y = tf.placeholder(dtype=tf.float32, shape=[None, 10])          # predicted output\n",
    "\n",
    "# weight and bias tensors\n",
    "w_1 = tf.Variable(tf.random_normal((x_size, h_size), stddev=1))\n",
    "b_1 = tf.Variable(tf.random_normal([h_size], stddev=1))\n",
    "w_2 = tf.Variable(tf.random_normal((h_size, y_size), stddev=1))\n",
    "b_2 = tf.Variable(tf.random_normal([y_size], stddev=1))\n",
    "\n",
    "# forward propagation\n",
    "H = tf.nn.sigmoid(tf.matmul(X, w_1) + b_1)     # hidden layer with sigmoid activation function\n",
    "y = tf.matmul(H, w_2) + b_2                    # output layer with no activation function\n",
    "\n",
    "# backward propagation\n",
    "cost = tf.reduce_mean(tf.nn.sparse_softmax_cross_entropy_with_logits(logits=y, labels=Y))    # cross entropy cost function\n",
    "optimizer = tf.train.GradientDescentOptimizer(learn_rate).minimize(cost)\n",
    "\n",
    "correct = tf.nn.in_top_k(y, Y, 1)\n",
    "acc = tf.reduce_mean(tf.cast(correct, tf.float32))\n",
    "\n",
    "# running the model\n",
    "init = tf.global_variables_initializer()\n",
    "start_time = time.time()\n",
    "with tf.Session() as sess:\n",
    "    sess.run(init)\n",
    "    print(\"itr\\tloss\\tacc_t\\tacc_v\")\n",
    "    \n",
    "    for iteration_id in range(n_iterations):\n",
    "        for batch_id in range(n_batches):\n",
    "            # find the current batch\n",
    "            i = batch_id * batch_size\n",
    "            j = (batch_id + 1) * batch_size\n",
    "            xx_train, yy_train = x_train[i:j][:], y_train[i:j]\n",
    "            \n",
    "            # train and update parameters from the current batch data\n",
    "            sess.run(optimizer, feed_dict={X:xx_train, Y:yy_train})\n",
    "        \n",
    "        # perform evaluation at the end of each iteration\n",
    "        loss_val = sess.run([cost], feed_dict={X:x_train, Y:y_train})\n",
    "        \n",
    "        # evaluate accuracy on training/validation data\n",
    "        acc_train = sess.run([acc], feed_dict={X:x_train, Y:y_train})\n",
    "        acc_val = sess.run([acc], feed_dict={X:x_val, Y:y_val})\n",
    "        \n",
    "        # printing training statistics\n",
    "        if iteration_id % 5 == 4:\n",
    "            print('{}\\t{}\\t{}\\t{}'.format(iteration_id + 1, str(round(loss_val[0], 1)), \n",
    "                  str(round(acc_train[0], 3)), str(round(acc_val[0], 3))))\n",
    "\n",
    "    # printing the training time\n",
    "    end_time = time.time()\n",
    "    print(\"\\nTotal training time: %.2f seconds\" % (end_time - start_time))\n",
    "\n",
    "    # running the model on test data\n",
    "    acc_test = sess.run([acc], feed_dict={X:x_test, Y:y_test})\n",
    "    print(\"Accuracy on test data: \", str(round(acc_test[0], 3)))"
   ]
  },
  {
   "cell_type": "markdown",
   "metadata": {
    "colab_type": "text",
    "id": "ekpRaBrxu62N"
   },
   "source": [
    "*    Normalize the dataset to range (0,1). Compare both the normalized and unnormalized\n",
    "models in terms of training time and accuracy.\n",
    "\n",
    "#### Training with normalized data\n",
    "Learning rate = 0.1 <br>\n",
    "No of iterations = 100 <br>\n",
    "No of hidden layers = 1 <br>\n",
    "No of nodes in the hidden layer = 32 <br>\n",
    "Activation function = Sigmoid"
   ]
  },
  {
   "cell_type": "code",
   "execution_count": 0,
   "metadata": {
    "colab": {
     "base_uri": "https://localhost:8080/",
     "height": 407
    },
    "colab_type": "code",
    "id": "auJMyGBt8pH5",
    "outputId": "fee6d6d5-a33b-4563-98fb-338754b1b966"
   },
   "outputs": [
    {
     "name": "stdout",
     "output_type": "stream",
     "text": [
      "itr\tloss\tacc_t\tacc_v\n",
      "5\t0.6\t0.813\t0.844\n",
      "10\t0.5\t0.858\t0.883\n",
      "15\t0.4\t0.877\t0.899\n",
      "20\t0.4\t0.89\t0.907\n",
      "25\t0.3\t0.898\t0.914\n",
      "30\t0.3\t0.905\t0.918\n",
      "35\t0.3\t0.91\t0.924\n",
      "40\t0.3\t0.915\t0.926\n",
      "45\t0.3\t0.919\t0.929\n",
      "50\t0.3\t0.922\t0.931\n",
      "55\t0.3\t0.925\t0.932\n",
      "60\t0.2\t0.927\t0.933\n",
      "65\t0.2\t0.93\t0.936\n",
      "70\t0.2\t0.932\t0.938\n",
      "75\t0.2\t0.934\t0.938\n",
      "80\t0.2\t0.936\t0.94\n",
      "85\t0.2\t0.937\t0.942\n",
      "90\t0.2\t0.939\t0.942\n",
      "95\t0.2\t0.94\t0.943\n",
      "100\t0.2\t0.941\t0.945\n",
      "\n",
      "Total training time: 90.52 seconds\n",
      "Accuracy on test data:  0.928\n"
     ]
    }
   ],
   "source": [
    "# loading MNIST data\n",
    "(x_train, y_train), (x_test, y_test) = mnist.load_data()\n",
    "\n",
    "# splitting the training data into training and validation data\n",
    "x_train, x_val = x_train[:-5000][:][:], x_train[-5000:][:][:]\n",
    "y_train, y_val = y_train[:-5000], y_train[-5000:]\n",
    "\n",
    "# resizing the image matrices into a linear vector\n",
    "x_train = np.reshape(x_train, (x_train.shape[0], -1))\n",
    "x_val = np.reshape(x_val, (x_val.shape[0], -1))\n",
    "x_test = np.reshape(x_test, (x_test.shape[0], -1))\n",
    "\n",
    "# normalizing the data\n",
    "x_train = x_train / 256\n",
    "x_val = x_val / 256\n",
    "x_test = x_test / 256\n",
    "\n",
    "# setting up parameters\n",
    "x_size = 784         # size of input vector (28 * 28 = 784)\n",
    "h_size = 32          # size of hidden layer\n",
    "y_size = 10          # size of output vector\n",
    "learn_rate = 0.1     # learning rate for gradient descent\n",
    "n_iterations = 100   # no of iterations of gradient descent to be performed\n",
    "n_batches = 500      # no of batches for training\n",
    "batch_size = int(len(x_train)/n_batches) # size of each batch\n",
    "\n",
    "# inputs and outputs\n",
    "X = tf.placeholder(dtype=tf.float32, shape=[None, x_size])    # input\n",
    "Y = tf.placeholder(dtype=tf.int32, shape=[None])              # actual output\n",
    "y = tf.placeholder(dtype=tf.float32, shape=[None, 10])          # predicted output\n",
    "\n",
    "# weight and bias tensors\n",
    "w_1 = tf.Variable(tf.random_normal((x_size, h_size), stddev=1))\n",
    "b_1 = tf.Variable(tf.random_normal([h_size], stddev=1))\n",
    "w_2 = tf.Variable(tf.random_normal((h_size, y_size), stddev=1))\n",
    "b_2 = tf.Variable(tf.random_normal([y_size], stddev=1))\n",
    "\n",
    "# forward propagation\n",
    "H = tf.nn.sigmoid(tf.matmul(X, w_1) + b_1)     # hidden layer with sigmoid activation function\n",
    "y = tf.matmul(H, w_2) + b_2                    # output layer with no activation function\n",
    "\n",
    "# backward propagation\n",
    "cost = tf.reduce_mean(tf.nn.sparse_softmax_cross_entropy_with_logits(logits=y, labels=Y))    # cross entropy cost function\n",
    "optimizer = tf.train.GradientDescentOptimizer(learn_rate).minimize(cost)\n",
    "\n",
    "correct = tf.nn.in_top_k(y, Y, 1)\n",
    "acc = tf.reduce_mean(tf.cast(correct, tf.float32))\n",
    "\n",
    "# running the model\n",
    "init = tf.global_variables_initializer()\n",
    "start_time = time.time()\n",
    "with tf.Session() as sess:\n",
    "    sess.run(init)\n",
    "    print(\"itr\\tloss\\tacc_t\\tacc_v\")\n",
    "    \n",
    "    for iteration_id in range(n_iterations):\n",
    "        for batch_id in range(n_batches):\n",
    "            # find the current batch\n",
    "            i = batch_id * batch_size\n",
    "            j = (batch_id + 1) * batch_size\n",
    "            xx_train, yy_train = x_train[i:j][:], y_train[i:j]\n",
    "            \n",
    "            # train and update parameters from the current batch data\n",
    "            sess.run(optimizer, feed_dict={X:xx_train, Y:yy_train})\n",
    "        \n",
    "        # perform evaluation at the end of each iteration\n",
    "        loss_val = sess.run([cost], feed_dict={X:x_train, Y:y_train})\n",
    "        \n",
    "        # evaluate accuracy on training/validation data\n",
    "        acc_train = sess.run([acc], feed_dict={X:x_train, Y:y_train})\n",
    "        acc_val = sess.run([acc], feed_dict={X:x_val, Y:y_val})\n",
    "        \n",
    "        # printing training statistics\n",
    "        if iteration_id % 5 == 4:\n",
    "            print('{}\\t{}\\t{}\\t{}'.format(iteration_id + 1, str(round(loss_val[0], 1)), \n",
    "                  str(round(acc_train[0], 3)), str(round(acc_val[0], 3))))\n",
    "\n",
    "    # printing the training time\n",
    "    end_time = time.time()\n",
    "    print(\"\\nTotal training time: %.2f seconds\" % (end_time - start_time))\n",
    "\n",
    "    # running the model on test data\n",
    "    acc_test = sess.run([acc], feed_dict={X:x_test, Y:y_test})\n",
    "    print(\"Accuracy on test data: \", str(round(acc_test[0], 3)))"
   ]
  },
  {
   "cell_type": "markdown",
   "metadata": {
    "colab_type": "text",
    "id": "6z2s-DmAyBAb"
   },
   "source": [
    "#### Comparison between model with normalized data vs unnormalized data\n",
    "As clear with the accuracy on the test data, the model with normalized data performs better."
   ]
  },
  {
   "cell_type": "markdown",
   "metadata": {
    "colab_type": "text",
    "id": "MHgbCAkAz3am"
   },
   "source": [
    "*  Choose the best performing model till now. <br>\n",
    "Train different models by varying\n",
    "the number of hidden layers in the model as 2 and 3. Record the observations.\n",
    "\n",
    "#### Training with normalized data\n",
    "Learning rate = 0.1 <br>\n",
    "No of iterations = 100 <br>\n",
    "No of hidden layers = 2 <br>\n",
    "No of nodes in the hidden layer = 32 <br>\n",
    "Activation function = Sigmoid"
   ]
  },
  {
   "cell_type": "code",
   "execution_count": 0,
   "metadata": {
    "colab": {
     "base_uri": "https://localhost:8080/",
     "height": 407
    },
    "colab_type": "code",
    "id": "yxx-X1UlxUwZ",
    "outputId": "9232fdaf-3f64-49eb-fc3f-f886542f31e7"
   },
   "outputs": [
    {
     "name": "stdout",
     "output_type": "stream",
     "text": [
      "itr\tloss\tacc_t\tacc_v\n",
      "5\t0.7\t0.773\t0.805\n",
      "10\t0.5\t0.84\t0.87\n",
      "15\t0.4\t0.87\t0.891\n",
      "20\t0.4\t0.886\t0.902\n",
      "25\t0.3\t0.896\t0.911\n",
      "30\t0.3\t0.905\t0.915\n",
      "35\t0.3\t0.911\t0.918\n",
      "40\t0.3\t0.917\t0.921\n",
      "45\t0.3\t0.922\t0.925\n",
      "50\t0.2\t0.926\t0.928\n",
      "55\t0.2\t0.929\t0.93\n",
      "60\t0.2\t0.932\t0.932\n",
      "65\t0.2\t0.935\t0.935\n",
      "70\t0.2\t0.937\t0.936\n",
      "75\t0.2\t0.94\t0.936\n",
      "80\t0.2\t0.942\t0.94\n",
      "85\t0.2\t0.944\t0.941\n",
      "90\t0.2\t0.946\t0.942\n",
      "95\t0.2\t0.947\t0.942\n",
      "100\t0.2\t0.949\t0.942\n",
      "\n",
      "Total training time: 99.31 seconds\n",
      "Accuracy on test data:  0.933\n"
     ]
    }
   ],
   "source": [
    "# loading MNIST data\n",
    "(x_train, y_train), (x_test, y_test) = mnist.load_data()\n",
    "\n",
    "# splitting the training data into training and validation data\n",
    "x_train, x_val = x_train[:-5000][:][:], x_train[-5000:][:][:]\n",
    "y_train, y_val = y_train[:-5000], y_train[-5000:]\n",
    "\n",
    "# resizing the image matrices into a linear vector\n",
    "x_train = np.reshape(x_train, (x_train.shape[0], -1))\n",
    "x_val = np.reshape(x_val, (x_val.shape[0], -1))\n",
    "x_test = np.reshape(x_test, (x_test.shape[0], -1))\n",
    "\n",
    "# normalizing the data\n",
    "x_train = x_train / 256\n",
    "x_val = x_val / 256\n",
    "x_test = x_test / 256\n",
    "\n",
    "# setting up parameters\n",
    "x_size = 784         # size of input vector (28 * 28 = 784)\n",
    "h_size = 32          # size of hidden layer\n",
    "y_size = 10          # size of output vector\n",
    "learn_rate = 0.1     # learning rate for gradient descent\n",
    "n_iterations = 100   # no of iterations of gradient descent to be performed\n",
    "n_batches = 500      # no of batches for training\n",
    "batch_size = int(len(x_train)/n_batches) # size of each batch\n",
    "\n",
    "# inputs and outputs\n",
    "X = tf.placeholder(dtype=tf.float32, shape=[None, x_size])    # input\n",
    "Y = tf.placeholder(dtype=tf.int32, shape=[None])              # actual output\n",
    "y = tf.placeholder(dtype=tf.float32, shape=[None, 10])          # predicted output\n",
    "\n",
    "# weight and bias tensors\n",
    "w_1 = tf.Variable(tf.random_normal((x_size, h_size), stddev=1))\n",
    "b_1 = tf.Variable(tf.random_normal([h_size], stddev=1))\n",
    "w_2 = tf.Variable(tf.random_normal((h_size, h_size), stddev=1))\n",
    "b_2 = tf.Variable(tf.random_normal([h_size], stddev=1))\n",
    "w_3 = tf.Variable(tf.random_normal((h_size, y_size), stddev=1))\n",
    "b_3 = tf.Variable(tf.random_normal([y_size], stddev=1))\n",
    "\n",
    "# forward propagation\n",
    "H1 = tf.nn.sigmoid(tf.matmul(X, w_1) + b_1)    # first hidden layer with sigmoid activation function\n",
    "H2 = tf.nn.sigmoid(tf.matmul(H1, w_2) + b_2)   # second hidden layer with sigmoid activation function\n",
    "y = tf.matmul(H2, w_3) + b_3                   # output layer with no activation function\n",
    "\n",
    "# backward propagation\n",
    "cost = tf.reduce_mean(tf.nn.sparse_softmax_cross_entropy_with_logits(logits=y, labels=Y))    # cross entropy cost function\n",
    "optimizer = tf.train.GradientDescentOptimizer(learn_rate).minimize(cost)\n",
    "\n",
    "correct = tf.nn.in_top_k(y, Y, 1)\n",
    "acc = tf.reduce_mean(tf.cast(correct, tf.float32))\n",
    "\n",
    "# running the model\n",
    "init = tf.global_variables_initializer()\n",
    "start_time = time.time()\n",
    "with tf.Session() as sess:\n",
    "    sess.run(init)\n",
    "    print(\"itr\\tloss\\tacc_t\\tacc_v\")\n",
    "    \n",
    "    for iteration_id in range(n_iterations):\n",
    "        for batch_id in range(n_batches):\n",
    "            # find the current batch\n",
    "            i = batch_id * batch_size\n",
    "            j = (batch_id + 1) * batch_size\n",
    "            xx_train, yy_train = x_train[i:j][:], y_train[i:j]\n",
    "            \n",
    "            # train and update parameters from the current batch data\n",
    "            sess.run(optimizer, feed_dict={X:xx_train, Y:yy_train})\n",
    "        \n",
    "        # perform evaluation at the end of each iteration\n",
    "        loss_val = sess.run([cost], feed_dict={X:x_train, Y:y_train})\n",
    "        \n",
    "        # evaluate accuracy on training/validation data\n",
    "        acc_train = sess.run([acc], feed_dict={X:x_train, Y:y_train})\n",
    "        acc_val = sess.run([acc], feed_dict={X:x_val, Y:y_val})\n",
    "        \n",
    "        # printing training statistics\n",
    "        if iteration_id % 5 == 4:\n",
    "            print('{}\\t{}\\t{}\\t{}'.format(iteration_id + 1, str(round(loss_val[0], 1)), \n",
    "                  str(round(acc_train[0], 3)), str(round(acc_val[0], 3))))\n",
    "\n",
    "    # printing the training time\n",
    "    end_time = time.time()\n",
    "    print(\"\\nTotal training time: %.2f seconds\" % (end_time - start_time))\n",
    "\n",
    "    # running the model on test data\n",
    "    acc_test = sess.run([acc], feed_dict={X:x_test, Y:y_test})\n",
    "    print(\"Accuracy on test data: \", str(round(acc_test[0], 3)))"
   ]
  },
  {
   "cell_type": "markdown",
   "metadata": {
    "colab_type": "text",
    "id": "RIfSqPcy1Z3e"
   },
   "source": [
    "#### Training with normalized data\n",
    "Learning rate = 0.1 <br>\n",
    "No of iterations = 100 <br>\n",
    "No of hidden layers = 3 <br>\n",
    "No of nodes in the hidden layer = 32 <br>\n",
    "Activation function = Sigmoid"
   ]
  },
  {
   "cell_type": "code",
   "execution_count": 0,
   "metadata": {
    "colab": {
     "base_uri": "https://localhost:8080/",
     "height": 407
    },
    "colab_type": "code",
    "id": "0Z7JDsDl1HW9",
    "outputId": "0bc240d3-d84e-4a0b-b8c2-32ff4bf0c38c"
   },
   "outputs": [
    {
     "name": "stdout",
     "output_type": "stream",
     "text": [
      "itr\tloss\tacc_t\tacc_v\n",
      "5\t0.7\t0.788\t0.819\n",
      "10\t0.5\t0.849\t0.871\n",
      "15\t0.4\t0.874\t0.89\n",
      "20\t0.4\t0.889\t0.901\n",
      "25\t0.3\t0.899\t0.909\n",
      "30\t0.3\t0.907\t0.913\n",
      "35\t0.3\t0.913\t0.918\n",
      "40\t0.3\t0.918\t0.922\n",
      "45\t0.3\t0.922\t0.926\n",
      "50\t0.2\t0.925\t0.93\n",
      "55\t0.2\t0.928\t0.933\n",
      "60\t0.2\t0.932\t0.936\n",
      "65\t0.2\t0.935\t0.938\n",
      "70\t0.2\t0.937\t0.939\n",
      "75\t0.2\t0.939\t0.941\n",
      "80\t0.2\t0.941\t0.943\n",
      "85\t0.2\t0.943\t0.944\n",
      "90\t0.2\t0.944\t0.945\n",
      "95\t0.2\t0.946\t0.946\n",
      "100\t0.2\t0.947\t0.947\n",
      "\n",
      "Total training time: 105.53 seconds\n",
      "Accuracy on test data:  0.925\n"
     ]
    }
   ],
   "source": [
    "# loading MNIST data\n",
    "(x_train, y_train), (x_test, y_test) = mnist.load_data()\n",
    "\n",
    "# splitting the training data into training and validation data\n",
    "x_train, x_val = x_train[:-5000][:][:], x_train[-5000:][:][:]\n",
    "y_train, y_val = y_train[:-5000], y_train[-5000:]\n",
    "\n",
    "# resizing the image matrices into a linear vector\n",
    "x_train = np.reshape(x_train, (x_train.shape[0], -1))\n",
    "x_val = np.reshape(x_val, (x_val.shape[0], -1))\n",
    "x_test = np.reshape(x_test, (x_test.shape[0], -1))\n",
    "\n",
    "# normalizing the data\n",
    "x_train = x_train / 256\n",
    "x_val = x_val / 256\n",
    "x_test = x_test / 256\n",
    "\n",
    "# setting up parameters\n",
    "x_size = 784         # size of input vector (28 * 28 = 784)\n",
    "h_size = 32          # size of hidden layer\n",
    "y_size = 10          # size of output vector\n",
    "learn_rate = 0.1     # learning rate for gradient descent\n",
    "n_iterations = 100   # no of iterations of gradient descent to be performed\n",
    "n_batches = 500      # no of batches for training\n",
    "batch_size = int(len(x_train)/n_batches) # size of each batch\n",
    "\n",
    "# inputs and outputs\n",
    "X = tf.placeholder(dtype=tf.float32, shape=[None, x_size])    # input\n",
    "Y = tf.placeholder(dtype=tf.int32, shape=[None])              # actual output\n",
    "y = tf.placeholder(dtype=tf.float32, shape=[None, 10])          # predicted output\n",
    "\n",
    "# weight and bias tensors\n",
    "w_1 = tf.Variable(tf.random_normal((x_size, h_size), stddev=1))\n",
    "b_1 = tf.Variable(tf.random_normal([h_size], stddev=1))\n",
    "w_2 = tf.Variable(tf.random_normal((h_size, h_size), stddev=1))\n",
    "b_2 = tf.Variable(tf.random_normal([h_size], stddev=1))\n",
    "w_3 = tf.Variable(tf.random_normal((h_size, h_size), stddev=1))\n",
    "b_3 = tf.Variable(tf.random_normal([h_size], stddev=1))\n",
    "w_4 = tf.Variable(tf.random_normal((h_size, y_size), stddev=1))\n",
    "b_4 = tf.Variable(tf.random_normal([y_size], stddev=1))\n",
    "\n",
    "# forward propagation\n",
    "H1 = tf.nn.sigmoid(tf.matmul(X, w_1) + b_1)    # first hidden layer with sigmoid activation function\n",
    "H2 = tf.nn.sigmoid(tf.matmul(H1, w_2) + b_2)   # second hidden layer with sigmoid activation function\n",
    "H3 = tf.nn.sigmoid(tf.matmul(H2, w_3) + b_3)   # third hidden layer with sigmoid activation function\n",
    "y = tf.matmul(H3, w_4) + b_4                   # output layer with no activation function\n",
    "\n",
    "# backward propagation\n",
    "cost = tf.reduce_mean(tf.nn.sparse_softmax_cross_entropy_with_logits(logits=y, labels=Y))    # cross entropy cost function\n",
    "optimizer = tf.train.GradientDescentOptimizer(learn_rate).minimize(cost)\n",
    "\n",
    "correct = tf.nn.in_top_k(y, Y, 1)\n",
    "acc = tf.reduce_mean(tf.cast(correct, tf.float32))\n",
    "\n",
    "# running the model\n",
    "init = tf.global_variables_initializer()\n",
    "start_time = time.time()\n",
    "with tf.Session() as sess:\n",
    "    sess.run(init)\n",
    "    print(\"itr\\tloss\\tacc_t\\tacc_v\")\n",
    "    \n",
    "    for iteration_id in range(n_iterations):\n",
    "        for batch_id in range(n_batches):\n",
    "            # find the current batch\n",
    "            i = batch_id * batch_size\n",
    "            j = (batch_id + 1) * batch_size\n",
    "            xx_train, yy_train = x_train[i:j][:], y_train[i:j]\n",
    "            \n",
    "            # train and update parameters from the current batch data\n",
    "            sess.run(optimizer, feed_dict={X:xx_train, Y:yy_train})\n",
    "        \n",
    "        # perform evaluation at the end of each iteration\n",
    "        loss_val = sess.run([cost], feed_dict={X:x_train, Y:y_train})\n",
    "        \n",
    "        # evaluate accuracy on training/validation data\n",
    "        acc_train = sess.run([acc], feed_dict={X:x_train, Y:y_train})\n",
    "        acc_val = sess.run([acc], feed_dict={X:x_val, Y:y_val})\n",
    "        \n",
    "        # printing training statistics\n",
    "        if iteration_id % 5 == 4:\n",
    "            print('{}\\t{}\\t{}\\t{}'.format(iteration_id + 1, str(round(loss_val[0], 1)), \n",
    "                  str(round(acc_train[0], 3)), str(round(acc_val[0], 3))))\n",
    "\n",
    "    # printing the training time\n",
    "    end_time = time.time()\n",
    "    print(\"\\nTotal training time: %.2f seconds\" % (end_time - start_time))\n",
    "\n",
    "    # running the model on test data\n",
    "    acc_test = sess.run([acc], feed_dict={X:x_test, Y:y_test})\n",
    "    print(\"Accuracy on test data: \", str(round(acc_test[0], 3)))"
   ]
  },
  {
   "cell_type": "markdown",
   "metadata": {
    "colab_type": "text",
    "id": "5urKrdM71hoH"
   },
   "source": [
    "#### Comparison between model with normalized data having 1, 2, 3 hidden layers\n",
    "From the results in the previous three models we find that the model with 3 hidden layers performs better than the model with 1 or 2 hidden layer, on the validation data. However, when comparing the results for test data, the second model with 2 hidden layers is better. This suggests that the third model (with three hidden layers), is so complex that it overfits the training data. \n",
    "So, to conclude the second model is better for our purpose of classifying hand written digits."
   ]
  },
  {
   "cell_type": "markdown",
   "metadata": {
    "colab_type": "text",
    "id": "BabQ3Tcl3pzd"
   },
   "source": [
    "*    Choose the best performing model till now. <br>\n",
    "Train models by varying the learning rates as 0.001 and 0.0001 and record your observations."
   ]
  },
  {
   "cell_type": "markdown",
   "metadata": {
    "colab_type": "text",
    "id": "h1JSmOtN4BFW"
   },
   "source": [
    "#### Training with normalized data and two hidden layers\n",
    "Learning rate = 0.001 <br>\n",
    "No of iterations = 100 <br>\n",
    "No of nodes in the hidden layer = 32 <br>\n",
    "Activation function = Sigmoid"
   ]
  },
  {
   "cell_type": "code",
   "execution_count": 0,
   "metadata": {
    "colab": {
     "base_uri": "https://localhost:8080/",
     "height": 407
    },
    "colab_type": "code",
    "id": "z_pPQ4vL4ONw",
    "outputId": "051b8f73-48f8-4ffd-9eec-0a124eca35d6"
   },
   "outputs": [
    {
     "name": "stdout",
     "output_type": "stream",
     "text": [
      "itr\tloss\tacc_t\tacc_v\n",
      "5\t2.8\t0.099\t0.105\n",
      "10\t2.4\t0.163\t0.167\n",
      "15\t2.3\t0.208\t0.211\n",
      "20\t2.1\t0.246\t0.245\n",
      "25\t2.0\t0.278\t0.278\n",
      "30\t2.0\t0.307\t0.313\n",
      "35\t1.9\t0.335\t0.341\n",
      "40\t1.8\t0.362\t0.369\n",
      "45\t1.8\t0.388\t0.399\n",
      "50\t1.7\t0.412\t0.422\n",
      "55\t1.7\t0.434\t0.446\n",
      "60\t1.6\t0.453\t0.468\n",
      "65\t1.6\t0.471\t0.485\n",
      "70\t1.6\t0.487\t0.505\n",
      "75\t1.5\t0.502\t0.524\n",
      "80\t1.5\t0.516\t0.537\n",
      "85\t1.4\t0.528\t0.55\n",
      "90\t1.4\t0.541\t0.563\n",
      "95\t1.4\t0.553\t0.574\n",
      "100\t1.4\t0.562\t0.584\n",
      "\n",
      "Total training time: 100.06 seconds\n",
      "Accuracy on test data:  0.571\n"
     ]
    }
   ],
   "source": [
    "# loading MNIST data\n",
    "(x_train, y_train), (x_test, y_test) = mnist.load_data()\n",
    "\n",
    "# splitting the training data into training and validation data\n",
    "x_train, x_val = x_train[:-5000][:][:], x_train[-5000:][:][:]\n",
    "y_train, y_val = y_train[:-5000], y_train[-5000:]\n",
    "\n",
    "# resizing the image matrices into a linear vector\n",
    "x_train = np.reshape(x_train, (x_train.shape[0], -1))\n",
    "x_val = np.reshape(x_val, (x_val.shape[0], -1))\n",
    "x_test = np.reshape(x_test, (x_test.shape[0], -1))\n",
    "\n",
    "# normalizing the data\n",
    "x_train = x_train / 256\n",
    "x_val = x_val / 256\n",
    "x_test = x_test / 256\n",
    "\n",
    "# setting up parameters\n",
    "x_size = 784         # size of input vector (28 * 28 = 784)\n",
    "h_size = 32          # size of hidden layer\n",
    "y_size = 10          # size of output vector\n",
    "learn_rate = 0.001   # learning rate for gradient descent\n",
    "n_iterations = 100   # no of iterations of gradient descent to be performed\n",
    "n_batches = 500      # no of batches for training\n",
    "batch_size = int(len(x_train)/n_batches) # size of each batch\n",
    "\n",
    "# inputs and outputs\n",
    "X = tf.placeholder(dtype=tf.float32, shape=[None, x_size])    # input\n",
    "Y = tf.placeholder(dtype=tf.int32, shape=[None])              # actual output\n",
    "y = tf.placeholder(dtype=tf.float32, shape=[None, 10])          # predicted output\n",
    "\n",
    "# weight and bias tensors\n",
    "w_1 = tf.Variable(tf.random_normal((x_size, h_size), stddev=1))\n",
    "b_1 = tf.Variable(tf.random_normal([h_size], stddev=1))\n",
    "w_2 = tf.Variable(tf.random_normal((h_size, h_size), stddev=1))\n",
    "b_2 = tf.Variable(tf.random_normal([h_size], stddev=1))\n",
    "w_3 = tf.Variable(tf.random_normal((h_size, y_size), stddev=1))\n",
    "b_3 = tf.Variable(tf.random_normal([y_size], stddev=1))\n",
    "\n",
    "# forward propagation\n",
    "H1 = tf.nn.sigmoid(tf.matmul(X, w_1) + b_1)    # first hidden layer with sigmoid activation function\n",
    "H2 = tf.nn.sigmoid(tf.matmul(H1, w_2) + b_2)   # second hidden layer with sigmoid activation function\n",
    "y = tf.matmul(H2, w_3) + b_3                   # output layer with no activation function\n",
    "\n",
    "# backward propagation\n",
    "cost = tf.reduce_mean(tf.nn.sparse_softmax_cross_entropy_with_logits(logits=y, labels=Y))    # cross entropy cost function\n",
    "optimizer = tf.train.GradientDescentOptimizer(learn_rate).minimize(cost)\n",
    "\n",
    "correct = tf.nn.in_top_k(y, Y, 1)\n",
    "acc = tf.reduce_mean(tf.cast(correct, tf.float32))\n",
    "\n",
    "# running the model\n",
    "init = tf.global_variables_initializer()\n",
    "start_time = time.time()\n",
    "with tf.Session() as sess:\n",
    "    sess.run(init)\n",
    "    print(\"itr\\tloss\\tacc_t\\tacc_v\")\n",
    "    \n",
    "    for iteration_id in range(n_iterations):\n",
    "        for batch_id in range(n_batches):\n",
    "            # find the current batch\n",
    "            i = batch_id * batch_size\n",
    "            j = (batch_id + 1) * batch_size\n",
    "            xx_train, yy_train = x_train[i:j][:], y_train[i:j]\n",
    "            \n",
    "            # train and update parameters from the current batch data\n",
    "            sess.run(optimizer, feed_dict={X:xx_train, Y:yy_train})\n",
    "        \n",
    "        # perform evaluation at the end of each iteration\n",
    "        loss_val = sess.run([cost], feed_dict={X:x_train, Y:y_train})\n",
    "        \n",
    "        # evaluate accuracy on training/validation data\n",
    "        acc_train = sess.run([acc], feed_dict={X:x_train, Y:y_train})\n",
    "        acc_val = sess.run([acc], feed_dict={X:x_val, Y:y_val})\n",
    "        \n",
    "        # printing training statistics\n",
    "        if iteration_id % 5 == 4:\n",
    "            print('{}\\t{}\\t{}\\t{}'.format(iteration_id + 1, str(round(loss_val[0], 1)), \n",
    "                  str(round(acc_train[0], 3)), str(round(acc_val[0], 3))))\n",
    "\n",
    "    # printing the training time\n",
    "    end_time = time.time()\n",
    "    print(\"\\nTotal training time: %.2f seconds\" % (end_time - start_time))\n",
    "\n",
    "    # running the model on test data\n",
    "    acc_test = sess.run([acc], feed_dict={X:x_test, Y:y_test})\n",
    "    print(\"Accuracy on test data: \", str(round(acc_test[0], 3)))"
   ]
  },
  {
   "cell_type": "markdown",
   "metadata": {
    "colab_type": "text",
    "id": "_Kuq1jFV4Dn6"
   },
   "source": [
    "#### Training with normalized data and two hidden layers\n",
    "Learning rate = 0.0001 <br>\n",
    "No of iterations = 100 <br>\n",
    "No of nodes in the hidden layer = 32 <br>\n",
    "Activation function = Sigmoid"
   ]
  },
  {
   "cell_type": "code",
   "execution_count": 0,
   "metadata": {
    "colab": {
     "base_uri": "https://localhost:8080/",
     "height": 407
    },
    "colab_type": "code",
    "id": "tiKQ-rvN4TNs",
    "outputId": "4ad9afb2-9bcd-4f33-8b56-125d03cbeb9e"
   },
   "outputs": [
    {
     "name": "stdout",
     "output_type": "stream",
     "text": [
      "itr\tloss\tacc_t\tacc_v\n",
      "5\t4.3\t0.119\t0.124\n",
      "10\t3.8\t0.112\t0.116\n",
      "15\t3.5\t0.104\t0.106\n",
      "20\t3.3\t0.098\t0.096\n",
      "25\t3.1\t0.096\t0.093\n",
      "30\t3.0\t0.096\t0.094\n",
      "35\t2.9\t0.096\t0.094\n",
      "40\t2.8\t0.097\t0.096\n",
      "45\t2.8\t0.098\t0.097\n",
      "50\t2.7\t0.101\t0.099\n",
      "55\t2.7\t0.103\t0.1\n",
      "60\t2.7\t0.105\t0.101\n",
      "65\t2.7\t0.107\t0.103\n",
      "70\t2.6\t0.109\t0.109\n",
      "75\t2.6\t0.111\t0.111\n",
      "80\t2.6\t0.114\t0.114\n",
      "85\t2.6\t0.117\t0.117\n",
      "90\t2.5\t0.119\t0.119\n",
      "95\t2.5\t0.122\t0.122\n",
      "100\t2.5\t0.125\t0.125\n",
      "\n",
      "Total training time: 101.67 seconds\n",
      "Accuracy on test data:  0.117\n"
     ]
    }
   ],
   "source": [
    "# loading MNIST data\n",
    "(x_train, y_train), (x_test, y_test) = mnist.load_data()\n",
    "\n",
    "# splitting the training data into training and validation data\n",
    "x_train, x_val = x_train[:-5000][:][:], x_train[-5000:][:][:]\n",
    "y_train, y_val = y_train[:-5000], y_train[-5000:]\n",
    "\n",
    "# resizing the image matrices into a linear vector\n",
    "x_train = np.reshape(x_train, (x_train.shape[0], -1))\n",
    "x_val = np.reshape(x_val, (x_val.shape[0], -1))\n",
    "x_test = np.reshape(x_test, (x_test.shape[0], -1))\n",
    "\n",
    "# normalizing the data\n",
    "x_train = x_train / 256\n",
    "x_val = x_val / 256\n",
    "x_test = x_test / 256\n",
    "\n",
    "# setting up parameters\n",
    "x_size = 784         # size of input vector (28 * 28 = 784)\n",
    "h_size = 32          # size of hidden layer\n",
    "y_size = 10          # size of output vector\n",
    "learn_rate = 0.0001  # learning rate for gradient descent\n",
    "n_iterations = 100   # no of iterations of gradient descent to be performed\n",
    "n_batches = 500      # no of batches for training\n",
    "batch_size = int(len(x_train)/n_batches) # size of each batch\n",
    "\n",
    "# inputs and outputs\n",
    "X = tf.placeholder(dtype=tf.float32, shape=[None, x_size])    # input\n",
    "Y = tf.placeholder(dtype=tf.int32, shape=[None])              # actual output\n",
    "y = tf.placeholder(dtype=tf.float32, shape=[None, 10])          # predicted output\n",
    "\n",
    "# weight and bias tensors\n",
    "w_1 = tf.Variable(tf.random_normal((x_size, h_size), stddev=1))\n",
    "b_1 = tf.Variable(tf.random_normal([h_size], stddev=1))\n",
    "w_2 = tf.Variable(tf.random_normal((h_size, h_size), stddev=1))\n",
    "b_2 = tf.Variable(tf.random_normal([h_size], stddev=1))\n",
    "w_3 = tf.Variable(tf.random_normal((h_size, y_size), stddev=1))\n",
    "b_3 = tf.Variable(tf.random_normal([y_size], stddev=1))\n",
    "\n",
    "# forward propagation\n",
    "H1 = tf.nn.sigmoid(tf.matmul(X, w_1) + b_1)    # first hidden layer with sigmoid activation function\n",
    "H2 = tf.nn.sigmoid(tf.matmul(H1, w_2) + b_2)   # second hidden layer with sigmoid activation function\n",
    "y = tf.matmul(H2, w_3) + b_3                   # output layer with no activation function\n",
    "\n",
    "# backward propagation\n",
    "cost = tf.reduce_mean(tf.nn.sparse_softmax_cross_entropy_with_logits(logits=y, labels=Y))    # cross entropy cost function\n",
    "optimizer = tf.train.GradientDescentOptimizer(learn_rate).minimize(cost)\n",
    "\n",
    "correct = tf.nn.in_top_k(y, Y, 1)\n",
    "acc = tf.reduce_mean(tf.cast(correct, tf.float32))\n",
    "\n",
    "# running the model\n",
    "init = tf.global_variables_initializer()\n",
    "start_time = time.time()\n",
    "with tf.Session() as sess:\n",
    "    sess.run(init)\n",
    "    print(\"itr\\tloss\\tacc_t\\tacc_v\")\n",
    "    \n",
    "    for iteration_id in range(n_iterations):\n",
    "        for batch_id in range(n_batches):\n",
    "            # find the current batch\n",
    "            i = batch_id * batch_size\n",
    "            j = (batch_id + 1) * batch_size\n",
    "            xx_train, yy_train = x_train[i:j][:], y_train[i:j]\n",
    "            \n",
    "            # train and update parameters from the current batch data\n",
    "            sess.run(optimizer, feed_dict={X:xx_train, Y:yy_train})\n",
    "        \n",
    "        # perform evaluation at the end of each iteration\n",
    "        loss_val = sess.run([cost], feed_dict={X:x_train, Y:y_train})\n",
    "        \n",
    "        # evaluate accuracy on training/validation data\n",
    "        acc_train = sess.run([acc], feed_dict={X:x_train, Y:y_train})\n",
    "        acc_val = sess.run([acc], feed_dict={X:x_val, Y:y_val})\n",
    "        \n",
    "        # printing training statistics\n",
    "        if iteration_id % 5 == 4:\n",
    "            print('{}\\t{}\\t{}\\t{}'.format(iteration_id + 1, str(round(loss_val[0], 1)), \n",
    "                  str(round(acc_train[0], 3)), str(round(acc_val[0], 3))))\n",
    "\n",
    "    # printing the training time\n",
    "    end_time = time.time()\n",
    "    print(\"\\nTotal training time: %.2f seconds\" % (end_time - start_time))\n",
    "\n",
    "    # running the model on test data\n",
    "    acc_test = sess.run([acc], feed_dict={X:x_test, Y:y_test})\n",
    "    print(\"Accuracy on test data: \", str(round(acc_test[0], 3)))"
   ]
  },
  {
   "cell_type": "markdown",
   "metadata": {
    "colab_type": "text",
    "id": "zahLu_cc4xCU"
   },
   "source": [
    "#### Comparison between models with learning rates of 0.1, 0.001, 0.0001\n",
    "Although theoretically learning rates 0.001, 0.0001 are better compared to 0.1 as they provide smooth movement towards the convergence point, their convergence is too slow. So, from practical point of view the model with 0.1 learning rate is better if we fix the no of iterations for the gradient descent."
   ]
  },
  {
   "cell_type": "markdown",
   "metadata": {
    "colab_type": "text",
    "id": "LUVpIJNt5wjh"
   },
   "source": [
    "*    Choose the best performing model till now. <br> \n",
    "Train models by varying the number of nodes in each hidden layer to 64 and 128.\n",
    "\n",
    "#### Training with normalized data and two hidden layers, learning rate = 0.1\n",
    "No of iterations = 100 <br>\n",
    "No of nodes in the hidden layer = 64 <br>\n",
    "Activation function = Sigmoid"
   ]
  },
  {
   "cell_type": "code",
   "execution_count": 0,
   "metadata": {
    "colab": {
     "base_uri": "https://localhost:8080/",
     "height": 407
    },
    "colab_type": "code",
    "id": "PLM71scR6Cad",
    "outputId": "496bcc4f-69aa-4b20-d75f-6f62ef4d65b9"
   },
   "outputs": [
    {
     "name": "stdout",
     "output_type": "stream",
     "text": [
      "itr\tloss\tacc_t\tacc_v\n",
      "5\t0.5\t0.829\t0.854\n",
      "10\t0.4\t0.874\t0.891\n",
      "15\t0.3\t0.894\t0.906\n",
      "20\t0.3\t0.906\t0.916\n",
      "25\t0.3\t0.914\t0.92\n",
      "30\t0.3\t0.922\t0.925\n",
      "35\t0.2\t0.927\t0.929\n",
      "40\t0.2\t0.932\t0.932\n",
      "45\t0.2\t0.935\t0.935\n",
      "50\t0.2\t0.939\t0.936\n",
      "55\t0.2\t0.941\t0.937\n",
      "60\t0.2\t0.944\t0.938\n",
      "65\t0.2\t0.947\t0.94\n",
      "70\t0.2\t0.949\t0.942\n",
      "75\t0.2\t0.951\t0.943\n",
      "80\t0.2\t0.954\t0.944\n",
      "85\t0.1\t0.955\t0.944\n",
      "90\t0.1\t0.957\t0.944\n",
      "95\t0.1\t0.959\t0.945\n",
      "100\t0.1\t0.961\t0.947\n",
      "\n",
      "Total training time: 124.19 seconds\n",
      "Accuracy on test data:  0.935\n"
     ]
    }
   ],
   "source": [
    "# loading MNIST data\n",
    "(x_train, y_train), (x_test, y_test) = mnist.load_data()\n",
    "\n",
    "# splitting the training data into training and validation data\n",
    "x_train, x_val = x_train[:-5000][:][:], x_train[-5000:][:][:]\n",
    "y_train, y_val = y_train[:-5000], y_train[-5000:]\n",
    "\n",
    "# resizing the image matrices into a linear vector\n",
    "x_train = np.reshape(x_train, (x_train.shape[0], -1))\n",
    "x_val = np.reshape(x_val, (x_val.shape[0], -1))\n",
    "x_test = np.reshape(x_test, (x_test.shape[0], -1))\n",
    "\n",
    "# normalizing the data\n",
    "x_train = x_train / 256\n",
    "x_val = x_val / 256\n",
    "x_test = x_test / 256\n",
    "\n",
    "# setting up parameters\n",
    "x_size = 784         # size of input vector (28 * 28 = 784)\n",
    "h_size = 64          # size of hidden layer\n",
    "y_size = 10          # size of output vector\n",
    "learn_rate = 0.1     # learning rate for gradient descent\n",
    "n_iterations = 100   # no of iterations of gradient descent to be performed\n",
    "n_batches = 500      # no of batches for training\n",
    "batch_size = int(len(x_train)/n_batches) # size of each batch\n",
    "\n",
    "# inputs and outputs\n",
    "X = tf.placeholder(dtype=tf.float32, shape=[None, x_size])    # input\n",
    "Y = tf.placeholder(dtype=tf.int32, shape=[None])              # actual output\n",
    "y = tf.placeholder(dtype=tf.float32, shape=[None, 10])          # predicted output\n",
    "\n",
    "# weight and bias tensors\n",
    "w_1 = tf.Variable(tf.random_normal((x_size, h_size), stddev=1))\n",
    "b_1 = tf.Variable(tf.random_normal([h_size], stddev=1))\n",
    "w_2 = tf.Variable(tf.random_normal((h_size, h_size), stddev=1))\n",
    "b_2 = tf.Variable(tf.random_normal([h_size], stddev=1))\n",
    "w_3 = tf.Variable(tf.random_normal((h_size, y_size), stddev=1))\n",
    "b_3 = tf.Variable(tf.random_normal([y_size], stddev=1))\n",
    "\n",
    "# forward propagation\n",
    "H1 = tf.nn.sigmoid(tf.matmul(X, w_1) + b_1)    # first hidden layer with sigmoid activation function\n",
    "H2 = tf.nn.sigmoid(tf.matmul(H1, w_2) + b_2)   # second hidden layer with sigmoid activation function\n",
    "y = tf.matmul(H2, w_3) + b_3                   # output layer with no activation function\n",
    "\n",
    "# backward propagation\n",
    "cost = tf.reduce_mean(tf.nn.sparse_softmax_cross_entropy_with_logits(logits=y, labels=Y))    # cross entropy cost function\n",
    "optimizer = tf.train.GradientDescentOptimizer(learn_rate).minimize(cost)\n",
    "\n",
    "correct = tf.nn.in_top_k(y, Y, 1)\n",
    "acc = tf.reduce_mean(tf.cast(correct, tf.float32))\n",
    "\n",
    "# running the model\n",
    "init = tf.global_variables_initializer()\n",
    "start_time = time.time()\n",
    "with tf.Session() as sess:\n",
    "    sess.run(init)\n",
    "    print(\"itr\\tloss\\tacc_t\\tacc_v\")\n",
    "    \n",
    "    for iteration_id in range(n_iterations):\n",
    "        for batch_id in range(n_batches):\n",
    "            # find the current batch\n",
    "            i = batch_id * batch_size\n",
    "            j = (batch_id + 1) * batch_size\n",
    "            xx_train, yy_train = x_train[i:j][:], y_train[i:j]\n",
    "            \n",
    "            # train and update parameters from the current batch data\n",
    "            sess.run(optimizer, feed_dict={X:xx_train, Y:yy_train})\n",
    "        \n",
    "        # perform evaluation at the end of each iteration\n",
    "        loss_val = sess.run([cost], feed_dict={X:x_train, Y:y_train})\n",
    "        \n",
    "        # evaluate accuracy on training/validation data\n",
    "        acc_train = sess.run([acc], feed_dict={X:x_train, Y:y_train})\n",
    "        acc_val = sess.run([acc], feed_dict={X:x_val, Y:y_val})\n",
    "        \n",
    "        # printing training statistics\n",
    "        if iteration_id % 5 == 4:\n",
    "            print('{}\\t{}\\t{}\\t{}'.format(iteration_id + 1, str(round(loss_val[0], 1)), \n",
    "                  str(round(acc_train[0], 3)), str(round(acc_val[0], 3))))\n",
    "\n",
    "    # printing the training time\n",
    "    end_time = time.time()\n",
    "    print(\"\\nTotal training time: %.2f seconds\" % (end_time - start_time))\n",
    "\n",
    "    # running the model on test data\n",
    "    acc_test = sess.run([acc], feed_dict={X:x_test, Y:y_test})\n",
    "    print(\"Accuracy on test data: \", str(round(acc_test[0], 3)))"
   ]
  },
  {
   "cell_type": "markdown",
   "metadata": {
    "colab_type": "text",
    "id": "frt5jNfI5_QW"
   },
   "source": [
    "#### Training with normalized data and two hidden layers, learning rate = 0.1\n",
    "No of iterations = 100 <br>\n",
    "No of nodes in the hidden layer = 128 <br>\n",
    "Activation function = Sigmoid"
   ]
  },
  {
   "cell_type": "code",
   "execution_count": 0,
   "metadata": {
    "colab": {
     "base_uri": "https://localhost:8080/",
     "height": 407
    },
    "colab_type": "code",
    "id": "0wdAahiK6LZO",
    "outputId": "91ac7132-c430-4b65-9815-73ab1461f42d"
   },
   "outputs": [
    {
     "name": "stdout",
     "output_type": "stream",
     "text": [
      "itr\tloss\tacc_t\tacc_v\n",
      "5\t0.5\t0.848\t0.867\n",
      "10\t0.4\t0.887\t0.897\n",
      "15\t0.3\t0.906\t0.913\n",
      "20\t0.3\t0.918\t0.925\n",
      "25\t0.2\t0.927\t0.927\n",
      "30\t0.2\t0.934\t0.93\n",
      "35\t0.2\t0.939\t0.934\n",
      "40\t0.2\t0.944\t0.936\n",
      "45\t0.2\t0.948\t0.939\n",
      "50\t0.2\t0.951\t0.94\n",
      "55\t0.2\t0.954\t0.942\n",
      "60\t0.1\t0.957\t0.942\n",
      "65\t0.1\t0.96\t0.942\n",
      "70\t0.1\t0.963\t0.942\n",
      "75\t0.1\t0.964\t0.944\n",
      "80\t0.1\t0.966\t0.945\n",
      "85\t0.1\t0.968\t0.946\n",
      "90\t0.1\t0.97\t0.946\n",
      "95\t0.1\t0.971\t0.946\n",
      "100\t0.1\t0.973\t0.947\n",
      "\n",
      "Total training time: 188.52 seconds\n",
      "Accuracy on test data:  0.934\n"
     ]
    }
   ],
   "source": [
    "# loading MNIST data\n",
    "(x_train, y_train), (x_test, y_test) = mnist.load_data()\n",
    "\n",
    "# splitting the training data into training and validation data\n",
    "x_train, x_val = x_train[:-5000][:][:], x_train[-5000:][:][:]\n",
    "y_train, y_val = y_train[:-5000], y_train[-5000:]\n",
    "\n",
    "# resizing the image matrices into a linear vector\n",
    "x_train = np.reshape(x_train, (x_train.shape[0], -1))\n",
    "x_val = np.reshape(x_val, (x_val.shape[0], -1))\n",
    "x_test = np.reshape(x_test, (x_test.shape[0], -1))\n",
    "\n",
    "# normalizing the data\n",
    "x_train = x_train / 256\n",
    "x_val = x_val / 256\n",
    "x_test = x_test / 256\n",
    "\n",
    "# setting up parameters\n",
    "x_size = 784         # size of input vector (28 * 28 = 784)\n",
    "h_size = 128         # size of hidden layer\n",
    "y_size = 10          # size of output vector\n",
    "learn_rate = 0.1     # learning rate for gradient descent\n",
    "n_iterations = 100   # no of iterations of gradient descent to be performed\n",
    "n_batches = 500      # no of batches for training\n",
    "batch_size = int(len(x_train)/n_batches) # size of each batch\n",
    "\n",
    "# inputs and outputs\n",
    "X = tf.placeholder(dtype=tf.float32, shape=[None, x_size])    # input\n",
    "Y = tf.placeholder(dtype=tf.int32, shape=[None])              # actual output\n",
    "y = tf.placeholder(dtype=tf.float32, shape=[None, 10])          # predicted output\n",
    "\n",
    "# weight and bias tensors\n",
    "w_1 = tf.Variable(tf.random_normal((x_size, h_size), stddev=1))\n",
    "b_1 = tf.Variable(tf.random_normal([h_size], stddev=1))\n",
    "w_2 = tf.Variable(tf.random_normal((h_size, h_size), stddev=1))\n",
    "b_2 = tf.Variable(tf.random_normal([h_size], stddev=1))\n",
    "w_3 = tf.Variable(tf.random_normal((h_size, y_size), stddev=1))\n",
    "b_3 = tf.Variable(tf.random_normal([y_size], stddev=1))\n",
    "\n",
    "# forward propagation\n",
    "H1 = tf.nn.sigmoid(tf.matmul(X, w_1) + b_1)    # first hidden layer with sigmoid activation function\n",
    "H2 = tf.nn.sigmoid(tf.matmul(H1, w_2) + b_2)   # second hidden layer with sigmoid activation function\n",
    "y = tf.matmul(H2, w_3) + b_3                   # output layer with no activation function\n",
    "\n",
    "# backward propagation\n",
    "cost = tf.reduce_mean(tf.nn.sparse_softmax_cross_entropy_with_logits(logits=y, labels=Y))    # cross entropy cost function\n",
    "optimizer = tf.train.GradientDescentOptimizer(learn_rate).minimize(cost)\n",
    "\n",
    "correct = tf.nn.in_top_k(y, Y, 1)\n",
    "acc = tf.reduce_mean(tf.cast(correct, tf.float32))\n",
    "\n",
    "# running the model\n",
    "init = tf.global_variables_initializer()\n",
    "start_time = time.time()\n",
    "with tf.Session() as sess:\n",
    "    sess.run(init)\n",
    "    print(\"itr\\tloss\\tacc_t\\tacc_v\")\n",
    "    \n",
    "    for iteration_id in range(n_iterations):\n",
    "        for batch_id in range(n_batches):\n",
    "            # find the current batch\n",
    "            i = batch_id * batch_size\n",
    "            j = (batch_id + 1) * batch_size\n",
    "            xx_train, yy_train = x_train[i:j][:], y_train[i:j]\n",
    "            \n",
    "            # train and update parameters from the current batch data\n",
    "            sess.run(optimizer, feed_dict={X:xx_train, Y:yy_train})\n",
    "        \n",
    "        # perform evaluation at the end of each iteration\n",
    "        loss_val = sess.run([cost], feed_dict={X:x_train, Y:y_train})\n",
    "        \n",
    "        # evaluate accuracy on training/validation data\n",
    "        acc_train = sess.run([acc], feed_dict={X:x_train, Y:y_train})\n",
    "        acc_val = sess.run([acc], feed_dict={X:x_val, Y:y_val})\n",
    "        \n",
    "        # printing training statistics\n",
    "        if iteration_id % 5 == 4:\n",
    "            print('{}\\t{}\\t{}\\t{}'.format(iteration_id + 1, str(round(loss_val[0], 1)), \n",
    "                  str(round(acc_train[0], 3)), str(round(acc_val[0], 3))))\n",
    "\n",
    "    # printing the training time\n",
    "    end_time = time.time()\n",
    "    print(\"\\nTotal training time: %.2f seconds\" % (end_time - start_time))\n",
    "\n",
    "    # running the model on test data\n",
    "    acc_test = sess.run([acc], feed_dict={X:x_test, Y:y_test})\n",
    "    print(\"Accuracy on test data: \", str(round(acc_test[0], 3)))"
   ]
  },
  {
   "cell_type": "markdown",
   "metadata": {
    "colab_type": "text",
    "id": "5rGdTkL57oEt"
   },
   "source": [
    "#### Comparison between models with 32, 64, 128 nodes in the hidden layer\n",
    "From the accuracy results obtained above, we find that the model with 128 nodes in the hidden layer performs better, which is also expected because of increased complexity of the network which enhances its respresentation ability. <br> \n",
    "Also, another thing to notice is that the training time for the same number of iterations also increases considerably."
   ]
  },
  {
   "cell_type": "markdown",
   "metadata": {
    "colab_type": "text",
    "id": "bf9ackf68e3h"
   },
   "source": [
    "*    Choose the best performing model till now. <br>\n",
    "Train models by varying the activation functions in each of the hidden layers to tanh, ReLU and leaky ReLU and record your observations."
   ]
  },
  {
   "cell_type": "markdown",
   "metadata": {
    "colab_type": "text",
    "id": "IMS60Tiv86se"
   },
   "source": [
    "#### Training with normalized data and two hidden layers, learning rate = 0.1 and 128 nodes in the hidden layer\n",
    "No of iterations = 100 <br>\n",
    "Activation function = tanh"
   ]
  },
  {
   "cell_type": "code",
   "execution_count": 0,
   "metadata": {
    "colab": {
     "base_uri": "https://localhost:8080/",
     "height": 407
    },
    "colab_type": "code",
    "id": "-OcP6qKF9EyB",
    "outputId": "6db72946-785d-462b-c1d2-9266f1370b20"
   },
   "outputs": [
    {
     "name": "stdout",
     "output_type": "stream",
     "text": [
      "itr\tloss\tacc_t\tacc_v\n",
      "5\t0.5\t0.869\t0.862\n",
      "10\t0.3\t0.903\t0.878\n",
      "15\t0.3\t0.921\t0.888\n",
      "20\t0.2\t0.933\t0.891\n",
      "25\t0.2\t0.942\t0.897\n",
      "30\t0.2\t0.95\t0.896\n",
      "35\t0.2\t0.956\t0.897\n",
      "40\t0.1\t0.961\t0.898\n",
      "45\t0.1\t0.965\t0.898\n",
      "50\t0.1\t0.968\t0.898\n",
      "55\t0.1\t0.971\t0.901\n",
      "60\t0.1\t0.974\t0.903\n",
      "65\t0.1\t0.977\t0.903\n",
      "70\t0.1\t0.979\t0.903\n",
      "75\t0.1\t0.981\t0.903\n",
      "80\t0.1\t0.983\t0.905\n",
      "85\t0.1\t0.985\t0.904\n",
      "90\t0.1\t0.987\t0.902\n",
      "95\t0.1\t0.988\t0.903\n",
      "100\t0.0\t0.989\t0.904\n",
      "\n",
      "Total training time: 187.81 seconds\n",
      "Accuracy on test data:  0.887\n"
     ]
    }
   ],
   "source": [
    "# loading MNIST data\n",
    "(x_train, y_train), (x_test, y_test) = mnist.load_data()\n",
    "\n",
    "# splitting the training data into training and validation data\n",
    "x_train, x_val = x_train[:-5000][:][:], x_train[-5000:][:][:]\n",
    "y_train, y_val = y_train[:-5000], y_train[-5000:]\n",
    "\n",
    "# resizing the image matrices into a linear vector\n",
    "x_train = np.reshape(x_train, (x_train.shape[0], -1))\n",
    "x_val = np.reshape(x_val, (x_val.shape[0], -1))\n",
    "x_test = np.reshape(x_test, (x_test.shape[0], -1))\n",
    "\n",
    "# normalizing the data\n",
    "x_train = x_train / 256\n",
    "x_val = x_val / 256\n",
    "x_test = x_test / 256\n",
    "\n",
    "# setting up parameters\n",
    "x_size = 784         # size of input vector (28 * 28 = 784)\n",
    "h_size = 128         # size of hidden layer\n",
    "y_size = 10          # size of output vector\n",
    "learn_rate = 0.1     # learning rate for gradient descent\n",
    "n_iterations = 100   # no of iterations of gradient descent to be performed\n",
    "n_batches = 500      # no of batches for training\n",
    "batch_size = int(len(x_train)/n_batches) # size of each batch\n",
    "\n",
    "# inputs and outputs\n",
    "X = tf.placeholder(dtype=tf.float32, shape=[None, x_size])    # input\n",
    "Y = tf.placeholder(dtype=tf.int32, shape=[None])              # actual output\n",
    "y = tf.placeholder(dtype=tf.float32, shape=[None, 10])          # predicted output\n",
    "\n",
    "# weight and bias tensors\n",
    "w_1 = tf.Variable(tf.random_normal((x_size, h_size), stddev=1))\n",
    "b_1 = tf.Variable(tf.random_normal([h_size], stddev=1))\n",
    "w_2 = tf.Variable(tf.random_normal((h_size, h_size), stddev=1))\n",
    "b_2 = tf.Variable(tf.random_normal([h_size], stddev=1))\n",
    "w_3 = tf.Variable(tf.random_normal((h_size, y_size), stddev=1))\n",
    "b_3 = tf.Variable(tf.random_normal([y_size], stddev=1))\n",
    "\n",
    "# forward propagation\n",
    "H1 = tf.nn.tanh(tf.matmul(X, w_1) + b_1)       # first hidden layer with sigmoid activation function\n",
    "H2 = tf.nn.tanh(tf.matmul(H1, w_2) + b_2)      # second hidden layer with sigmoid activation function\n",
    "y = tf.matmul(H2, w_3) + b_3                   # output layer with no activation function\n",
    "\n",
    "# backward propagation\n",
    "cost = tf.reduce_mean(tf.nn.sparse_softmax_cross_entropy_with_logits(logits=y, labels=Y))    # cross entropy cost function\n",
    "optimizer = tf.train.GradientDescentOptimizer(learn_rate).minimize(cost)\n",
    "\n",
    "correct = tf.nn.in_top_k(y, Y, 1)\n",
    "acc = tf.reduce_mean(tf.cast(correct, tf.float32))\n",
    "\n",
    "# running the model\n",
    "init = tf.global_variables_initializer()\n",
    "start_time = time.time()\n",
    "with tf.Session() as sess:\n",
    "    sess.run(init)\n",
    "    print(\"itr\\tloss\\tacc_t\\tacc_v\")\n",
    "    \n",
    "    for iteration_id in range(n_iterations):\n",
    "        for batch_id in range(n_batches):\n",
    "            # find the current batch\n",
    "            i = batch_id * batch_size\n",
    "            j = (batch_id + 1) * batch_size\n",
    "            xx_train, yy_train = x_train[i:j][:], y_train[i:j]\n",
    "            \n",
    "            # train and update parameters from the current batch data\n",
    "            sess.run(optimizer, feed_dict={X:xx_train, Y:yy_train})\n",
    "        \n",
    "        # perform evaluation at the end of each iteration\n",
    "        loss_val = sess.run([cost], feed_dict={X:x_train, Y:y_train})\n",
    "        \n",
    "        # evaluate accuracy on training/validation data\n",
    "        acc_train = sess.run([acc], feed_dict={X:x_train, Y:y_train})\n",
    "        acc_val = sess.run([acc], feed_dict={X:x_val, Y:y_val})\n",
    "        \n",
    "        # printing training statistics\n",
    "        if iteration_id % 5 == 4:\n",
    "            print('{}\\t{}\\t{}\\t{}'.format(iteration_id + 1, str(round(loss_val[0], 1)), \n",
    "                  str(round(acc_train[0], 3)), str(round(acc_val[0], 3))))\n",
    "\n",
    "    # printing the training time\n",
    "    end_time = time.time()\n",
    "    print(\"\\nTotal training time: %.2f seconds\" % (end_time - start_time))\n",
    "\n",
    "    # running the model on test data\n",
    "    acc_test = sess.run([acc], feed_dict={X:x_test, Y:y_test})\n",
    "    print(\"Accuracy on test data: \", str(round(acc_test[0], 3)))"
   ]
  },
  {
   "cell_type": "markdown",
   "metadata": {
    "colab_type": "text",
    "id": "XoAReJDb8vsf"
   },
   "source": [
    "#### Training with normalized data and two hidden layers, learning rate = 0.1 and 128 nodes in the hidden layer\n",
    "No of iterations = 100 <br>\n",
    "Activation function = ReLU"
   ]
  },
  {
   "cell_type": "code",
   "execution_count": 0,
   "metadata": {
    "colab": {
     "base_uri": "https://localhost:8080/",
     "height": 407
    },
    "colab_type": "code",
    "id": "jq1AC1tG9Zet",
    "outputId": "8da37b7e-e920-4f44-b03f-e6d706276033"
   },
   "outputs": [
    {
     "name": "stdout",
     "output_type": "stream",
     "text": [
      "itr\tloss\tacc_t\tacc_v\n",
      "5\t1.7\t0.305\t0.317\n",
      "10\t1.5\t0.369\t0.375\n",
      "15\t1.4\t0.452\t0.46\n",
      "20\t1.1\t0.592\t0.622\n",
      "25\t0.8\t0.706\t0.734\n",
      "30\t0.7\t0.737\t0.767\n",
      "35\t0.7\t0.773\t0.797\n",
      "40\t0.6\t0.823\t0.847\n",
      "45\t0.5\t0.857\t0.877\n",
      "50\t0.4\t0.873\t0.893\n",
      "55\t0.4\t0.888\t0.903\n",
      "60\t0.4\t0.898\t0.909\n",
      "65\t0.3\t0.904\t0.914\n",
      "70\t0.3\t0.908\t0.916\n",
      "75\t0.3\t0.913\t0.921\n",
      "80\t0.3\t0.917\t0.923\n",
      "85\t0.3\t0.921\t0.923\n",
      "90\t0.3\t0.924\t0.925\n",
      "95\t0.3\t0.927\t0.927\n",
      "100\t0.2\t0.929\t0.929\n",
      "\n",
      "Total training time: 191.39 seconds\n",
      "Accuracy on test data:  0.912\n"
     ]
    }
   ],
   "source": [
    "# loading MNIST data\n",
    "(x_train, y_train), (x_test, y_test) = mnist.load_data()\n",
    "\n",
    "# splitting the training data into training and validation data\n",
    "x_train, x_val = x_train[:-5000][:][:], x_train[-5000:][:][:]\n",
    "y_train, y_val = y_train[:-5000], y_train[-5000:]\n",
    "\n",
    "# resizing the image matrices into a linear vector\n",
    "x_train = np.reshape(x_train, (x_train.shape[0], -1))\n",
    "x_val = np.reshape(x_val, (x_val.shape[0], -1))\n",
    "x_test = np.reshape(x_test, (x_test.shape[0], -1))\n",
    "\n",
    "# normalizing the data\n",
    "x_train = x_train / 256\n",
    "x_val = x_val / 256\n",
    "x_test = x_test / 256\n",
    "\n",
    "# setting up parameters\n",
    "x_size = 784         # size of input vector (28 * 28 = 784)\n",
    "h_size = 128         # size of hidden layer\n",
    "y_size = 10          # size of output vector\n",
    "learn_rate = 0.1     # learning rate for gradient descent\n",
    "n_iterations = 100   # no of iterations of gradient descent to be performed\n",
    "n_batches = 500      # no of batches for training\n",
    "batch_size = int(len(x_train)/n_batches) # size of each batch\n",
    "\n",
    "# inputs and outputs\n",
    "X = tf.placeholder(dtype=tf.float32, shape=[None, x_size])    # input\n",
    "Y = tf.placeholder(dtype=tf.int32, shape=[None])              # actual output\n",
    "y = tf.placeholder(dtype=tf.float32, shape=[None, 10])          # predicted output\n",
    "\n",
    "# weight and bias tensors\n",
    "w_1 = tf.Variable(tf.random_normal((x_size, h_size), stddev=1))\n",
    "b_1 = tf.Variable(tf.random_normal([h_size], stddev=1))\n",
    "w_2 = tf.Variable(tf.random_normal((h_size, h_size), stddev=1))\n",
    "b_2 = tf.Variable(tf.random_normal([h_size], stddev=1))\n",
    "w_3 = tf.Variable(tf.random_normal((h_size, y_size), stddev=1))\n",
    "b_3 = tf.Variable(tf.random_normal([y_size], stddev=1))\n",
    "\n",
    "# forward propagation\n",
    "H1 = tf.nn.relu(tf.matmul(X, w_1) + b_1)       # first hidden layer with sigmoid activation function\n",
    "H2 = tf.nn.relu(tf.matmul(H1, w_2) + b_2)      # second hidden layer with sigmoid activation function\n",
    "y = tf.matmul(H2, w_3) + b_3                   # output layer with no activation function\n",
    "\n",
    "# backward propagation\n",
    "cost = tf.reduce_mean(tf.nn.sparse_softmax_cross_entropy_with_logits(logits=y, labels=Y))    # cross entropy cost function\n",
    "optimizer = tf.train.GradientDescentOptimizer(learn_rate).minimize(cost)\n",
    "\n",
    "correct = tf.nn.in_top_k(y, Y, 1)\n",
    "acc = tf.reduce_mean(tf.cast(correct, tf.float32))\n",
    "\n",
    "# running the model\n",
    "init = tf.global_variables_initializer()\n",
    "start_time = time.time()\n",
    "with tf.Session() as sess:\n",
    "    sess.run(init)\n",
    "    print(\"itr\\tloss\\tacc_t\\tacc_v\")\n",
    "    \n",
    "    for iteration_id in range(n_iterations):\n",
    "        for batch_id in range(n_batches):\n",
    "            # find the current batch\n",
    "            i = batch_id * batch_size\n",
    "            j = (batch_id + 1) * batch_size\n",
    "            xx_train, yy_train = x_train[i:j][:], y_train[i:j]\n",
    "            \n",
    "            # train and update parameters from the current batch data\n",
    "            sess.run(optimizer, feed_dict={X:xx_train, Y:yy_train})\n",
    "        \n",
    "        # perform evaluation at the end of each iteration\n",
    "        loss_val = sess.run([cost], feed_dict={X:x_train, Y:y_train})\n",
    "        \n",
    "        # evaluate accuracy on training/validation data\n",
    "        acc_train = sess.run([acc], feed_dict={X:x_train, Y:y_train})\n",
    "        acc_val = sess.run([acc], feed_dict={X:x_val, Y:y_val})\n",
    "        \n",
    "        # printing training statistics\n",
    "        if iteration_id % 5 == 4:\n",
    "            print('{}\\t{}\\t{}\\t{}'.format(iteration_id + 1, str(round(loss_val[0], 1)), \n",
    "                  str(round(acc_train[0], 3)), str(round(acc_val[0], 3))))\n",
    "\n",
    "    # printing the training time\n",
    "    end_time = time.time()\n",
    "    print(\"\\nTotal training time: %.2f seconds\" % (end_time - start_time))\n",
    "\n",
    "    # running the model on test data\n",
    "    acc_test = sess.run([acc], feed_dict={X:x_test, Y:y_test})\n",
    "    print(\"Accuracy on test data: \", str(round(acc_test[0], 3)))"
   ]
  },
  {
   "cell_type": "markdown",
   "metadata": {
    "colab_type": "text",
    "id": "68dolYlM8wL0"
   },
   "source": [
    "#### Training with normalized data and two hidden layers, learning rate = 0.1, 128 nodes in the hidden layer\n",
    "No of iterations = 100 <br>\n",
    "Activation function = Leaky ReLU"
   ]
  },
  {
   "cell_type": "code",
   "execution_count": 0,
   "metadata": {
    "colab": {
     "base_uri": "https://localhost:8080/",
     "height": 407
    },
    "colab_type": "code",
    "id": "B5fTOC7J9irw",
    "outputId": "d2301ad1-2392-4893-83e4-189aa828886a"
   },
   "outputs": [
    {
     "name": "stdout",
     "output_type": "stream",
     "text": [
      "itr\tloss\tacc_t\tacc_v\n",
      "5\tnan\t0.0\t0.0\n",
      "10\tnan\t0.0\t0.0\n",
      "15\tnan\t0.0\t0.0\n",
      "20\tnan\t0.0\t0.0\n",
      "25\tnan\t0.0\t0.0\n",
      "30\tnan\t0.0\t0.0\n",
      "35\tnan\t0.0\t0.0\n",
      "40\tnan\t0.0\t0.0\n",
      "45\tnan\t0.0\t0.0\n",
      "50\tnan\t0.0\t0.0\n",
      "55\tnan\t0.0\t0.0\n",
      "60\tnan\t0.0\t0.0\n",
      "65\tnan\t0.0\t0.0\n",
      "70\tnan\t0.0\t0.0\n",
      "75\tnan\t0.0\t0.0\n",
      "80\tnan\t0.0\t0.0\n",
      "85\tnan\t0.0\t0.0\n",
      "90\tnan\t0.0\t0.0\n",
      "95\tnan\t0.0\t0.0\n",
      "100\tnan\t0.0\t0.0\n",
      "\n",
      "Total training time: 196.21 seconds\n",
      "Accuracy on test data:  0.0\n"
     ]
    }
   ],
   "source": [
    "# loading MNIST data\n",
    "(x_train, y_train), (x_test, y_test) = mnist.load_data()\n",
    "\n",
    "# splitting the training data into training and validation data\n",
    "x_train, x_val = x_train[:-5000][:][:], x_train[-5000:][:][:]\n",
    "y_train, y_val = y_train[:-5000], y_train[-5000:]\n",
    "\n",
    "# resizing the image matrices into a linear vector\n",
    "x_train = np.reshape(x_train, (x_train.shape[0], -1))\n",
    "x_val = np.reshape(x_val, (x_val.shape[0], -1))\n",
    "x_test = np.reshape(x_test, (x_test.shape[0], -1))\n",
    "\n",
    "# normalizing the data\n",
    "x_train = x_train / 256\n",
    "x_val = x_val / 256\n",
    "x_test = x_test / 256\n",
    "\n",
    "# setting up parameters\n",
    "x_size = 784         # size of input vector (28 * 28 = 784)\n",
    "h_size = 128         # size of hidden layer\n",
    "y_size = 10          # size of output vector\n",
    "learn_rate = 0.1     # learning rate for gradient descent\n",
    "n_iterations = 100   # no of iterations of gradient descent to be performed\n",
    "n_batches = 500      # no of batches for training\n",
    "batch_size = int(len(x_train)/n_batches) # size of each batch\n",
    "\n",
    "# inputs and outputs\n",
    "X = tf.placeholder(dtype=tf.float32, shape=[None, x_size])    # input\n",
    "Y = tf.placeholder(dtype=tf.int32, shape=[None])              # actual output\n",
    "y = tf.placeholder(dtype=tf.float32, shape=[None, 10])          # predicted output\n",
    "\n",
    "# weight and bias tensors\n",
    "w_1 = tf.Variable(tf.random_normal((x_size, h_size), stddev=1))\n",
    "b_1 = tf.Variable(tf.random_normal([h_size], stddev=1))\n",
    "w_2 = tf.Variable(tf.random_normal((h_size, h_size), stddev=1))\n",
    "b_2 = tf.Variable(tf.random_normal([h_size], stddev=1))\n",
    "w_3 = tf.Variable(tf.random_normal((h_size, y_size), stddev=1))\n",
    "b_3 = tf.Variable(tf.random_normal([y_size], stddev=1))\n",
    "\n",
    "# forward propagation\n",
    "H1 = tf.nn.leaky_relu(tf.matmul(X, w_1) + b_1, alpha=0.01) # first hidden layer with sigmoid activation function\n",
    "H2 = tf.nn.leaky_relu(tf.matmul(H1, w_2) + b_2, alpha=0.01)# second hidden layer with sigmoid activation function\n",
    "y = tf.matmul(H2, w_3) + b_3                               # output layer with no activation function\n",
    "\n",
    "# backward propagation\n",
    "cost = tf.reduce_mean(tf.nn.sparse_softmax_cross_entropy_with_logits(logits=y, labels=Y))    # cross entropy cost function\n",
    "optimizer = tf.train.GradientDescentOptimizer(learn_rate).minimize(cost)\n",
    "\n",
    "correct = tf.nn.in_top_k(y, Y, 1)\n",
    "acc = tf.reduce_mean(tf.cast(correct, tf.float32))\n",
    "\n",
    "# running the model\n",
    "init = tf.global_variables_initializer()\n",
    "start_time = time.time()\n",
    "with tf.Session() as sess:\n",
    "    sess.run(init)\n",
    "    print(\"itr\\tloss\\tacc_t\\tacc_v\")\n",
    "    \n",
    "    for iteration_id in range(n_iterations):\n",
    "        for batch_id in range(n_batches):\n",
    "            # find the current batch\n",
    "            i = batch_id * batch_size\n",
    "            j = (batch_id + 1) * batch_size\n",
    "            xx_train, yy_train = x_train[i:j][:], y_train[i:j]\n",
    "            \n",
    "            # train and update parameters from the current batch data\n",
    "            sess.run(optimizer, feed_dict={X:xx_train, Y:yy_train})\n",
    "        \n",
    "        # perform evaluation at the end of each iteration\n",
    "        loss_val = sess.run([cost], feed_dict={X:x_train, Y:y_train})\n",
    "        \n",
    "        # evaluate accuracy on training/validation data\n",
    "        acc_train = sess.run([acc], feed_dict={X:x_train, Y:y_train})\n",
    "        acc_val = sess.run([acc], feed_dict={X:x_val, Y:y_val})\n",
    "        \n",
    "        # printing training statistics\n",
    "        if iteration_id % 5 == 4:\n",
    "            print('{}\\t{}\\t{}\\t{}'.format(iteration_id + 1, str(round(loss_val[0], 1)), \n",
    "                  str(round(acc_train[0], 3)), str(round(acc_val[0], 3))))\n",
    "\n",
    "    # printing the training time\n",
    "    end_time = time.time()\n",
    "    print(\"\\nTotal training time: %.2f seconds\" % (end_time - start_time))\n",
    "\n",
    "    # running the model on test data\n",
    "    acc_test = sess.run([acc], feed_dict={X:x_test, Y:y_test})\n",
    "    print(\"Accuracy on test data: \", str(round(acc_test[0], 3)))"
   ]
  },
  {
   "cell_type": "markdown",
   "metadata": {
    "colab_type": "text",
    "id": "VFZ3Qg2eCzMG"
   },
   "source": [
    "#### Comparison between models with sigmoid, tanh, ReLU and Leaky ReLU activation functions\n",
    "The model with **tanh** activation function overfits the training data and hence is not able to perform better on the test data. Among the remaining three sigmoid function is better as apparent from the accuracy results."
   ]
  },
  {
   "cell_type": "markdown",
   "metadata": {
    "colab_type": "text",
    "id": "kw1Yii6ODUGW"
   },
   "source": [
    "*     Among all the configurations of hyper-parameters that you trained above, which setting is best. How did you decide which setting is better ?\n",
    "\n",
    "Two models can be compared by their performance on the test data for fixed number of iterations of gradient descent. The one with higher accuracy is better. Best on this consideration, the best hyper-parameters settings obtained are - <br>\n",
    "**(un)normalized data** - normalized data <br>\n",
    "**number of hidden layers** - 2 <br>\n",
    "**learning rate** - 0.1\n",
    "**number of nodes in hidden layer** - 128 <br>\n",
    "**activation function** - Sigmoid <br>\n",
    "\n",
    "### Final model"
   ]
  },
  {
   "cell_type": "code",
   "execution_count": 0,
   "metadata": {
    "colab": {
     "base_uri": "https://localhost:8080/",
     "height": 196
    },
    "colab_type": "code",
    "id": "bbPtudHVF3KP",
    "outputId": "d17dcfc6-f174-4e6b-de7a-579f654997e8"
   },
   "outputs": [
    {
     "name": "stdout",
     "output_type": "stream",
     "text": [
      "Downloading data from https://s3.amazonaws.com/img-datasets/mnist.npz\n",
      "11493376/11490434 [==============================] - 0s 0us/step\n",
      "itr\tloss\tacc_t\tacc_v\n",
      "100\t0.1\t0.976\t0.949\n",
      "200\t0.0\t0.993\t0.953\n",
      "300\t0.0\t0.998\t0.956\n",
      "400\t0.0\t1.0\t0.957\n",
      "500\t0.0\t1.0\t0.958\n",
      "\n",
      "Total training time: 1008.32 seconds\n",
      "Accuracy on test data:  0.95\n"
     ]
    }
   ],
   "source": [
    "# loading MNIST data\n",
    "(x_train, y_train), (x_test, y_test) = mnist.load_data()\n",
    "\n",
    "# splitting the training data into training and validation data\n",
    "x_train, x_val = x_train[:-5000][:][:], x_train[-5000:][:][:]\n",
    "y_train, y_val = y_train[:-5000], y_train[-5000:]\n",
    "\n",
    "# resizing the image matrices into a linear vector\n",
    "x_train = np.reshape(x_train, (x_train.shape[0], -1))\n",
    "x_val = np.reshape(x_val, (x_val.shape[0], -1))\n",
    "x_test = np.reshape(x_test, (x_test.shape[0], -1))\n",
    "\n",
    "# normalizing the data\n",
    "x_train = x_train / 256\n",
    "x_val = x_val / 256\n",
    "x_test = x_test / 256\n",
    "\n",
    "# setting up parameters\n",
    "x_size = 784         # size of input vector (28 * 28 = 784)\n",
    "h_size = 128         # size of hidden layer\n",
    "y_size = 10          # size of output vector\n",
    "learn_rate = 0.1     # learning rate for gradient descent\n",
    "n_iterations = 500  # no of iterations of gradient descent to be performed\n",
    "n_batches = 500      # no of batches for training\n",
    "batch_size = int(len(x_train)/n_batches) # size of each batch\n",
    "\n",
    "# inputs and outputs\n",
    "X = tf.placeholder(dtype=tf.float32, shape=[None, x_size])    # input\n",
    "Y = tf.placeholder(dtype=tf.int32, shape=[None])              # actual output\n",
    "y = tf.placeholder(dtype=tf.float32, shape=[None, 10])          # predicted output\n",
    "\n",
    "# weight and bias tensors\n",
    "w_1 = tf.Variable(tf.random_normal((x_size, h_size), stddev=1))\n",
    "b_1 = tf.Variable(tf.random_normal([h_size], stddev=1))\n",
    "w_2 = tf.Variable(tf.random_normal((h_size, h_size), stddev=1))\n",
    "b_2 = tf.Variable(tf.random_normal([h_size], stddev=1))\n",
    "w_3 = tf.Variable(tf.random_normal((h_size, y_size), stddev=1))\n",
    "b_3 = tf.Variable(tf.random_normal([y_size], stddev=1))\n",
    "\n",
    "# forward propagation\n",
    "H1 = tf.nn.sigmoid(tf.matmul(X, w_1) + b_1)    # first hidden layer with sigmoid activation function\n",
    "H2 = tf.nn.sigmoid(tf.matmul(H1, w_2) + b_2)   # second hidden layer with sigmoid activation function\n",
    "y = tf.matmul(H2, w_3) + b_3                   # output layer with no activation function\n",
    "\n",
    "# backward propagation\n",
    "cost = tf.reduce_mean(tf.nn.sparse_softmax_cross_entropy_with_logits(logits=y, labels=Y))    # cross entropy cost function\n",
    "optimizer = tf.train.GradientDescentOptimizer(learn_rate).minimize(cost)\n",
    "\n",
    "correct = tf.nn.in_top_k(y, Y, 1)\n",
    "acc = tf.reduce_mean(tf.cast(correct, tf.float32))\n",
    "\n",
    "# running the model\n",
    "init = tf.global_variables_initializer()\n",
    "start_time = time.time()\n",
    "with tf.Session() as sess:\n",
    "    sess.run(init)\n",
    "    print(\"itr\\tloss\\tacc_t\\tacc_v\")\n",
    "    \n",
    "    for iteration_id in range(n_iterations):\n",
    "        for batch_id in range(n_batches):\n",
    "            # find the current batch\n",
    "            i = batch_id * batch_size\n",
    "            j = (batch_id + 1) * batch_size\n",
    "            xx_train, yy_train = x_train[i:j][:], y_train[i:j]\n",
    "            \n",
    "            # train and update parameters from the current batch data\n",
    "            sess.run(optimizer, feed_dict={X:xx_train, Y:yy_train})\n",
    "        \n",
    "        # perform evaluation at the end of each iteration\n",
    "        loss_val = sess.run([cost], feed_dict={X:x_train, Y:y_train})\n",
    "        \n",
    "        # evaluate accuracy on training/validation data\n",
    "        acc_train = sess.run([acc], feed_dict={X:x_train, Y:y_train})\n",
    "        acc_val = sess.run([acc], feed_dict={X:x_val, Y:y_val})\n",
    "        \n",
    "        # printing training statistics\n",
    "        if iteration_id % 100 == 99:\n",
    "            print('{}\\t{}\\t{}\\t{}'.format(iteration_id + 1, str(round(loss_val[0], 1)), \n",
    "                  str(round(acc_train[0], 3)), str(round(acc_val[0], 3))))\n",
    "\n",
    "    # printing the training time\n",
    "    end_time = time.time()\n",
    "    print(\"\\nTotal training time: %.2f seconds\" % (end_time - start_time))\n",
    "\n",
    "    # running the model on test data\n",
    "    acc_test = sess.run([acc], feed_dict={X:x_test, Y:y_test})\n",
    "    print(\"Accuracy on test data: \", str(round(acc_test[0], 3)))"
   ]
  },
  {
   "cell_type": "markdown",
   "metadata": {
    "colab_type": "text",
    "id": "rWXvBvyzEb9K"
   },
   "source": [
    "*    Among all the models trained above, how will you choose the best model? Which is the best model?\n",
    "\n",
    "There is no hard and fast rule for choosing the best model for a given problem. We must vary the model parameters and check the accuracy on the validation data. The model that performs the best on validation data is the best. Varying the parameters for a feedforward neural network like - no. of hidden layers, no. of nodes in the hidden layer, learning rate etc., we obtained the above configuration of parameters which performs the best."
   ]
  }
 ],
 "metadata": {
  "colab": {
   "collapsed_sections": [],
   "name": "Assignment2.ipynb",
   "provenance": []
  },
  "kernelspec": {
   "display_name": "Python 3",
   "language": "python",
   "name": "python3"
  },
  "language_info": {
   "codemirror_mode": {
    "name": "ipython",
    "version": 3
   },
   "file_extension": ".py",
   "mimetype": "text/x-python",
   "name": "python",
   "nbconvert_exporter": "python",
   "pygments_lexer": "ipython3",
   "version": "3.7.3"
  }
 },
 "nbformat": 4,
 "nbformat_minor": 1
}
