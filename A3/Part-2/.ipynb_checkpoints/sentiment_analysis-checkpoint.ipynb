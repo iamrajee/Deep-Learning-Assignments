{
 "cells": [
  {
   "cell_type": "code",
   "execution_count": 1,
   "metadata": {},
   "outputs": [
    {
     "name": "stdout",
     "output_type": "stream",
     "text": [
      "sentiment_analysis.ipynb  test.txt  train.txt\r\n"
     ]
    }
   ],
   "source": [
    "# from google.colab import drive\n",
    "# drive.mount('/content/gdrive')\n",
    "# !cp \"gdrive/My Drive/assignments\" -r saved_models/"
   ]
  },
  {
   "cell_type": "markdown",
   "metadata": {},
   "source": [
    "####Importing tensorflow"
   ]
  },
  {
   "cell_type": "code",
   "execution_count": 3,
   "metadata": {},
   "outputs": [
    {
     "data": {
      "text/plain": [
       "'2.0.0-rc0'"
      ]
     },
     "execution_count": 3,
     "metadata": {},
     "output_type": "execute_result"
    }
   ],
   "source": [
    "from __future__ import absolute_import, division, print_function, unicode_literals\n",
    "import tensorflow as tf\n",
    "import tensorflow_datasets as tfds\n",
    "import os\n",
    "tf.__version__"
   ]
  },
  {
   "cell_type": "code",
   "execution_count": 27,
   "metadata": {},
   "outputs": [
    {
     "name": "stdout",
     "output_type": "stream",
     "text": [
      "25000\n",
      "25000\n",
      "                                                   X  Y\n",
      "0  Bromwell High is a cartoon comedy. It ran at t...  1\n",
      "1  Homelessness (or Houselessness as George Carli...  1\n",
      "2  Brilliant over-acting by Lesley Ann Warren. Be...  1\n",
      "3  This is easily the most underrated film inn th...  1\n",
      "4  This is not the typical Mel Brooks film. It wa...  1\n",
      "                                                       X  Y\n",
      "24995  I occasionally let my kids watch this garbage ...  0\n",
      "24996  When all we have anymore is pretty much realit...  0\n",
      "24997  The basic genre is a thriller intercut with an...  0\n",
      "24998  Four things intrigued me as to this film - fir...  0\n",
      "24999  David Bryce's comments nearby are exceptionall...  0\n"
     ]
    }
   ],
   "source": [
    "import pandas as pd\n",
    "\n",
    "tokenizer = RegexpTokenizer('[a-zA-Z]{2,}')\n",
    "train_df = pd.read_csv('train.txt', delimiter='\\n', header=None, names=['X'])\n",
    "test_df = pd.read_csv('test.txt', delimiter='\\n', header=None, names=['X'])\n",
    "\n",
    "col_y = ([1] * 12500) + ([0] * 12500)\n",
    "train_df.insert (1, 'Y', col_y, True)\n",
    "test_df.insert (1, 'Y', col_y, True)\n",
    "\n",
    "print (len(train_df))\n",
    "print (len(test_df))\n",
    "print (train_df.head())\n",
    "print (test_df.tail())\n"
   ]
  },
  {
   "cell_type": "code",
   "execution_count": 28,
   "metadata": {},
   "outputs": [
    {
     "name": "stdout",
     "output_type": "stream",
     "text": [
      "                                                    X  Y\n",
      "0   bromwell high is cartoon comedy it ran at the ...  1\n",
      "1   homelessness or houselessness as george carlin...  1\n",
      "2   brilliant over acting by lesley ann warren bes...  1\n",
      "3   this is easily the most underrated film inn th...  1\n",
      "4   this is not the typical mel brooks film it was...  1\n",
      "5   this isn the comedic robin williams nor is it ...  1\n",
      "6   yes its an art to successfully make slow paced...  1\n",
      "7   in this critically acclaimed psychological thr...  1\n",
      "8   the night listener robin williams toni collett...  1\n",
      "9   you know robin williams god bless him is const...  1\n",
      "10  when first read armistead maupins story was ta...  1\n",
      "11  liked the film some of the action scenes were ...  1\n",
      "12  there are many illnesses born in the mind of m...  1\n",
      "13  enjoyed the night listener very much it one of...  1\n",
      "14  the night listener is probably not one of will...  1\n",
      "15  like one of the previous commenters said this ...  1\n",
      "16  the night listener held my attention with robi...  1\n",
      "17  popular radio storyteller gabriel no one robin...  1\n",
      "18  if there is one thing to recommend about this ...  1\n",
      "19  absolutely loved this film do not at all relat...  1\n"
     ]
    }
   ],
   "source": [
    "import string\n",
    "import nltk\n",
    "from nltk.tokenize import RegexpTokenizer\n",
    "tokenizer = RegexpTokenizer('[a-zA-Z]{2,}')\n",
    "\n",
    "def preprocess (text):\n",
    "    tokens = tokenizer.tokenize(text)\n",
    "    tokens = [word.lower() for word in tokens]\n",
    "    return (\" \".join(tokens))\n",
    "    \n",
    "train_df['X'] = train_df.apply(lambda row: preprocess(row['X']), axis=1)\n",
    "print (train_df.iloc[:20])"
   ]
  },
  {
   "cell_type": "code",
   "execution_count": null,
   "metadata": {},
   "outputs": [],
   "source": []
  },
  {
   "cell_type": "code",
   "execution_count": null,
   "metadata": {},
   "outputs": [],
   "source": []
  },
  {
   "cell_type": "code",
   "execution_count": null,
   "metadata": {},
   "outputs": [],
   "source": []
  },
  {
   "cell_type": "code",
   "execution_count": null,
   "metadata": {},
   "outputs": [],
   "source": []
  },
  {
   "cell_type": "code",
   "execution_count": null,
   "metadata": {},
   "outputs": [],
   "source": []
  },
  {
   "cell_type": "code",
   "execution_count": null,
   "metadata": {},
   "outputs": [],
   "source": []
  },
  {
   "cell_type": "code",
   "execution_count": null,
   "metadata": {},
   "outputs": [],
   "source": []
  },
  {
   "cell_type": "code",
   "execution_count": null,
   "metadata": {},
   "outputs": [],
   "source": []
  },
  {
   "cell_type": "code",
   "execution_count": null,
   "metadata": {},
   "outputs": [],
   "source": []
  },
  {
   "cell_type": "code",
   "execution_count": null,
   "metadata": {},
   "outputs": [],
   "source": []
  },
  {
   "cell_type": "code",
   "execution_count": null,
   "metadata": {},
   "outputs": [],
   "source": []
  },
  {
   "cell_type": "code",
   "execution_count": null,
   "metadata": {},
   "outputs": [],
   "source": []
  },
  {
   "cell_type": "code",
   "execution_count": null,
   "metadata": {},
   "outputs": [],
   "source": []
  },
  {
   "cell_type": "code",
   "execution_count": null,
   "metadata": {},
   "outputs": [],
   "source": []
  },
  {
   "cell_type": "code",
   "execution_count": null,
   "metadata": {},
   "outputs": [],
   "source": []
  }
 ],
 "metadata": {
  "kernelspec": {
   "display_name": "Python 3",
   "language": "python",
   "name": "python3"
  },
  "language_info": {
   "codemirror_mode": {
    "name": "ipython",
    "version": 3
   },
   "file_extension": ".py",
   "mimetype": "text/x-python",
   "name": "python",
   "nbconvert_exporter": "python",
   "pygments_lexer": "ipython3",
   "version": "3.7.3"
  }
 },
 "nbformat": 4,
 "nbformat_minor": 2
}
